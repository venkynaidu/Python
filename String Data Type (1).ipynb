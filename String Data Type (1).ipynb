{
 "cells": [
  {
   "cell_type": "code",
   "execution_count": 1,
   "id": "e7af1bc3",
   "metadata": {},
   "outputs": [
    {
     "data": {
      "text/plain": [
       "str"
      ]
     },
     "execution_count": 1,
     "metadata": {},
     "output_type": "execute_result"
    }
   ],
   "source": [
    "s='A'\n",
    "type(s)"
   ]
  },
  {
   "cell_type": "code",
   "execution_count": 2,
   "id": "57fac9eb",
   "metadata": {},
   "outputs": [
    {
     "data": {
      "text/plain": [
       "str"
      ]
     },
     "execution_count": 2,
     "metadata": {},
     "output_type": "execute_result"
    }
   ],
   "source": [
    "s=\"H\"\n",
    "type(s)"
   ]
  },
  {
   "cell_type": "code",
   "execution_count": 3,
   "id": "34efc3d8",
   "metadata": {},
   "outputs": [
    {
     "data": {
      "text/plain": [
       "str"
      ]
     },
     "execution_count": 3,
     "metadata": {},
     "output_type": "execute_result"
    }
   ],
   "source": [
    "a='''Hello'''\n",
    "type(a)"
   ]
  },
  {
   "cell_type": "code",
   "execution_count": 4,
   "id": "079322e0",
   "metadata": {},
   "outputs": [
    {
     "ename": "SyntaxError",
     "evalue": "EOL while scanning string literal (Temp/ipykernel_9540/2317896580.py, line 1)",
     "output_type": "error",
     "traceback": [
      "\u001b[1;36m  File \u001b[1;32m\"C:\\Users\\venky\\AppData\\Local\\Temp/ipykernel_9540/2317896580.py\"\u001b[1;36m, line \u001b[1;32m1\u001b[0m\n\u001b[1;33m    s='Hello\u001b[0m\n\u001b[1;37m            ^\u001b[0m\n\u001b[1;31mSyntaxError\u001b[0m\u001b[1;31m:\u001b[0m EOL while scanning string literal\n"
     ]
    }
   ],
   "source": [
    "s='Hello\n",
    "How are u'"
   ]
  },
  {
   "cell_type": "code",
   "execution_count": 5,
   "id": "da7704dc",
   "metadata": {},
   "outputs": [],
   "source": [
    "s='''Hello\n",
    "How are u?'''"
   ]
  },
  {
   "cell_type": "code",
   "execution_count": 6,
   "id": "5a5c2de6",
   "metadata": {},
   "outputs": [
    {
     "data": {
      "text/plain": [
       "str"
      ]
     },
     "execution_count": 6,
     "metadata": {},
     "output_type": "execute_result"
    }
   ],
   "source": [
    "type(s)"
   ]
  },
  {
   "cell_type": "code",
   "execution_count": 7,
   "id": "309dd944",
   "metadata": {},
   "outputs": [
    {
     "name": "stdout",
     "output_type": "stream",
     "text": [
      "Hello\n",
      "How are u?\n"
     ]
    }
   ],
   "source": [
    "print(s)"
   ]
  },
  {
   "cell_type": "code",
   "execution_count": 8,
   "id": "a4f909f9",
   "metadata": {},
   "outputs": [
    {
     "data": {
      "text/plain": [
       "str"
      ]
     },
     "execution_count": 8,
     "metadata": {},
     "output_type": "execute_result"
    }
   ],
   "source": [
    "s=\"\"\"Hello\n",
    "How are you?\"\"\"\n",
    "type(s)"
   ]
  },
  {
   "cell_type": "code",
   "execution_count": 9,
   "id": "9668d581",
   "metadata": {},
   "outputs": [
    {
     "name": "stdout",
     "output_type": "stream",
     "text": [
      "Hello\n",
      "How are you?\n"
     ]
    }
   ],
   "source": [
    "print(s)"
   ]
  },
  {
   "cell_type": "code",
   "execution_count": 10,
   "id": "212db3bc",
   "metadata": {},
   "outputs": [
    {
     "ename": "SyntaxError",
     "evalue": "invalid syntax (Temp/ipykernel_9540/1269164920.py, line 1)",
     "output_type": "error",
     "traceback": [
      "\u001b[1;36m  File \u001b[1;32m\"C:\\Users\\venky\\AppData\\Local\\Temp/ipykernel_9540/1269164920.py\"\u001b[1;36m, line \u001b[1;32m1\u001b[0m\n\u001b[1;33m    s='Venky's Group'\u001b[0m\n\u001b[1;37m             ^\u001b[0m\n\u001b[1;31mSyntaxError\u001b[0m\u001b[1;31m:\u001b[0m invalid syntax\n"
     ]
    }
   ],
   "source": [
    "s='Venky's Group'"
   ]
  },
  {
   "cell_type": "code",
   "execution_count": null,
   "id": "04ad984d",
   "metadata": {},
   "outputs": [],
   "source": []
  },
  {
   "cell_type": "code",
   "execution_count": 11,
   "id": "8518a971",
   "metadata": {},
   "outputs": [],
   "source": [
    "s='Venky\\'s Group'"
   ]
  },
  {
   "cell_type": "code",
   "execution_count": 12,
   "id": "567f9dae",
   "metadata": {},
   "outputs": [
    {
     "data": {
      "text/plain": [
       "\"Venky's Group\""
      ]
     },
     "execution_count": 12,
     "metadata": {},
     "output_type": "execute_result"
    }
   ],
   "source": [
    "s"
   ]
  },
  {
   "cell_type": "code",
   "execution_count": 13,
   "id": "49b632ec",
   "metadata": {},
   "outputs": [
    {
     "name": "stdout",
     "output_type": "stream",
     "text": [
      "Venky's Group\n"
     ]
    }
   ],
   "source": [
    "print(s)"
   ]
  },
  {
   "cell_type": "code",
   "execution_count": 17,
   "id": "db760409",
   "metadata": {},
   "outputs": [
    {
     "name": "stdout",
     "output_type": "stream",
     "text": [
      "venky's Group\n",
      "\"Venky's Group\"\n"
     ]
    }
   ],
   "source": [
    "s=\"venky's Group\"\n",
    "print(s)\n",
    "s=\"\\\"Venky's Group\\\"\"\n",
    "print(s)"
   ]
  },
  {
   "cell_type": "code",
   "execution_count": 14,
   "id": "14cfcef9",
   "metadata": {},
   "outputs": [
    {
     "name": "stdout",
     "output_type": "stream",
     "text": [
      "\"Venky's Group\"\n"
     ]
    }
   ],
   "source": [
    "s=\"\\\"Venky's Group\\\"\"\n",
    "print(s)"
   ]
  },
  {
   "cell_type": "code",
   "execution_count": 20,
   "id": "1297e7ca",
   "metadata": {},
   "outputs": [
    {
     "name": "stdout",
     "output_type": "stream",
     "text": [
      "'Venky's Group'\n"
     ]
    }
   ],
   "source": [
    "s=\"\\'Venky\\'s Group\\'\"\n",
    "print(s)"
   ]
  },
  {
   "cell_type": "code",
   "execution_count": 1,
   "id": "49bf2c99",
   "metadata": {},
   "outputs": [
    {
     "name": "stdout",
     "output_type": "stream",
     "text": [
      "Enter ur name:venky's group\n",
      "venky's group\n"
     ]
    }
   ],
   "source": [
    "s=input(\"Enter ur name:\")\n",
    "print(s)"
   ]
  },
  {
   "cell_type": "code",
   "execution_count": 17,
   "id": "48a8778b",
   "metadata": {},
   "outputs": [
    {
     "name": "stdout",
     "output_type": "stream",
     "text": [
      "Enter ur name:venky's group\n",
      "venky's group\n"
     ]
    }
   ],
   "source": [
    "s=input(\"Enter ur name:\")\n",
    "print(s)"
   ]
  },
  {
   "cell_type": "code",
   "execution_count": 18,
   "id": "d1e739c6",
   "metadata": {},
   "outputs": [
    {
     "name": "stdout",
     "output_type": "stream",
     "text": [
      "venky's group\n"
     ]
    }
   ],
   "source": [
    "print(s)"
   ]
  },
  {
   "cell_type": "code",
   "execution_count": null,
   "id": "158e1a5f",
   "metadata": {},
   "outputs": [],
   "source": [
    "Accessing of string :\n",
    "    1. Indexing\n",
    "    2. Slicing"
   ]
  },
  {
   "cell_type": "code",
   "execution_count": 19,
   "id": "e9e679c5",
   "metadata": {},
   "outputs": [
    {
     "name": "stdout",
     "output_type": "stream",
     "text": [
      "H\n"
     ]
    }
   ],
   "source": [
    "s=\"Hello\"\n",
    "print(s[0])"
   ]
  },
  {
   "cell_type": "code",
   "execution_count": 20,
   "id": "1037e249",
   "metadata": {},
   "outputs": [
    {
     "name": "stdout",
     "output_type": "stream",
     "text": [
      "e\n"
     ]
    }
   ],
   "source": [
    "print(s[1])"
   ]
  },
  {
   "cell_type": "code",
   "execution_count": 21,
   "id": "8d1d3b2f",
   "metadata": {},
   "outputs": [
    {
     "name": "stdout",
     "output_type": "stream",
     "text": [
      "l\n"
     ]
    }
   ],
   "source": [
    "print(s[2])"
   ]
  },
  {
   "cell_type": "code",
   "execution_count": 28,
   "id": "6ade7ee6",
   "metadata": {},
   "outputs": [],
   "source": [
    "s=\"venky\""
   ]
  },
  {
   "cell_type": "code",
   "execution_count": 29,
   "id": "b8d7d83c",
   "metadata": {},
   "outputs": [
    {
     "name": "stdout",
     "output_type": "stream",
     "text": [
      "v\n",
      "e\n",
      "n\n",
      "k\n",
      "y\n"
     ]
    }
   ],
   "source": [
    "for i in s:\n",
    "    print(i)"
   ]
  },
  {
   "cell_type": "code",
   "execution_count": 2,
   "id": "6f9c1b35",
   "metadata": {},
   "outputs": [
    {
     "name": "stdout",
     "output_type": "stream",
     "text": [
      "v e n k y "
     ]
    }
   ],
   "source": [
    "s=\"venky\"\n",
    "for i in s:\n",
    "    print(i,end=' ')"
   ]
  },
  {
   "cell_type": "code",
   "execution_count": null,
   "id": "2fe9b35b",
   "metadata": {},
   "outputs": [],
   "source": []
  },
  {
   "cell_type": "code",
   "execution_count": 30,
   "id": "cb2681a0",
   "metadata": {},
   "outputs": [
    {
     "data": {
      "text/plain": [
       "'enk'"
      ]
     },
     "execution_count": 30,
     "metadata": {},
     "output_type": "execute_result"
    }
   ],
   "source": [
    "s[1:4]"
   ]
  },
  {
   "cell_type": "code",
   "execution_count": 1,
   "id": "76644991",
   "metadata": {},
   "outputs": [
    {
     "name": "stdout",
     "output_type": "stream",
     "text": [
      "Hello Venky\n"
     ]
    }
   ],
   "source": [
    "s1=\"Hello\"\n",
    "s2=\" Venky\"\n",
    "print(s1+s2)"
   ]
  },
  {
   "cell_type": "code",
   "execution_count": null,
   "id": "c4bd060a",
   "metadata": {},
   "outputs": [],
   "source": [
    "concatenation (adding of two strings)"
   ]
  },
  {
   "cell_type": "code",
   "execution_count": 25,
   "id": "16d343f5",
   "metadata": {},
   "outputs": [
    {
     "ename": "TypeError",
     "evalue": "can only concatenate str (not \"int\") to str",
     "output_type": "error",
     "traceback": [
      "\u001b[1;31m---------------------------------------------------------------------------\u001b[0m",
      "\u001b[1;31mTypeError\u001b[0m                                 Traceback (most recent call last)",
      "\u001b[1;32m~\\AppData\\Local\\Temp/ipykernel_9380/1125725322.py\u001b[0m in \u001b[0;36m<module>\u001b[1;34m\u001b[0m\n\u001b[0;32m      1\u001b[0m \u001b[0ms1\u001b[0m\u001b[1;33m=\u001b[0m\u001b[1;34m\"Hello\"\u001b[0m\u001b[1;33m\u001b[0m\u001b[1;33m\u001b[0m\u001b[0m\n\u001b[1;32m----> 2\u001b[1;33m \u001b[0mprint\u001b[0m\u001b[1;33m(\u001b[0m\u001b[0ms1\u001b[0m\u001b[1;33m+\u001b[0m\u001b[1;36m2\u001b[0m\u001b[1;33m)\u001b[0m\u001b[1;33m\u001b[0m\u001b[1;33m\u001b[0m\u001b[0m\n\u001b[0m",
      "\u001b[1;31mTypeError\u001b[0m: can only concatenate str (not \"int\") to str"
     ]
    }
   ],
   "source": [
    "s1=\"Hello\"\n",
    "print(s1+2)"
   ]
  },
  {
   "cell_type": "code",
   "execution_count": 2,
   "id": "44d6ab7d",
   "metadata": {},
   "outputs": [
    {
     "name": "stdout",
     "output_type": "stream",
     "text": [
      "Hello2\n"
     ]
    }
   ],
   "source": [
    "s1=\"Hello\"\n",
    "print(s1+\"2\")"
   ]
  },
  {
   "cell_type": "code",
   "execution_count": 26,
   "id": "a7461939",
   "metadata": {},
   "outputs": [
    {
     "name": "stdout",
     "output_type": "stream",
     "text": [
      "HelloGood Morning\n"
     ]
    }
   ],
   "source": [
    "s1=\"Hello\"\n",
    "print(s1+\"Good Morning\")"
   ]
  },
  {
   "cell_type": "code",
   "execution_count": 27,
   "id": "97aba6c7",
   "metadata": {},
   "outputs": [
    {
     "ename": "TypeError",
     "evalue": "unsupported operand type(s) for -: 'str' and 'str'",
     "output_type": "error",
     "traceback": [
      "\u001b[1;31m---------------------------------------------------------------------------\u001b[0m",
      "\u001b[1;31mTypeError\u001b[0m                                 Traceback (most recent call last)",
      "\u001b[1;32m~\\AppData\\Local\\Temp/ipykernel_9380/568074311.py\u001b[0m in \u001b[0;36m<module>\u001b[1;34m\u001b[0m\n\u001b[1;32m----> 1\u001b[1;33m \u001b[0ms1\u001b[0m\u001b[1;33m-\u001b[0m\u001b[0ms2\u001b[0m\u001b[1;33m\u001b[0m\u001b[1;33m\u001b[0m\u001b[0m\n\u001b[0m",
      "\u001b[1;31mTypeError\u001b[0m: unsupported operand type(s) for -: 'str' and 'str'"
     ]
    }
   ],
   "source": [
    "s1-s2"
   ]
  },
  {
   "cell_type": "code",
   "execution_count": 28,
   "id": "ff572969",
   "metadata": {},
   "outputs": [
    {
     "ename": "TypeError",
     "evalue": "can't multiply sequence by non-int of type 'str'",
     "output_type": "error",
     "traceback": [
      "\u001b[1;31m---------------------------------------------------------------------------\u001b[0m",
      "\u001b[1;31mTypeError\u001b[0m                                 Traceback (most recent call last)",
      "\u001b[1;32m~\\AppData\\Local\\Temp/ipykernel_9380/4219951218.py\u001b[0m in \u001b[0;36m<module>\u001b[1;34m\u001b[0m\n\u001b[1;32m----> 1\u001b[1;33m \u001b[0ms1\u001b[0m\u001b[1;33m*\u001b[0m\u001b[0ms2\u001b[0m\u001b[1;33m\u001b[0m\u001b[1;33m\u001b[0m\u001b[0m\n\u001b[0m",
      "\u001b[1;31mTypeError\u001b[0m: can't multiply sequence by non-int of type 'str'"
     ]
    }
   ],
   "source": [
    "s1*s2"
   ]
  },
  {
   "cell_type": "code",
   "execution_count": 29,
   "id": "08cab818",
   "metadata": {},
   "outputs": [
    {
     "name": "stdout",
     "output_type": "stream",
     "text": [
      "HelloHello\n"
     ]
    }
   ],
   "source": [
    "s1=\"Hello\"\n",
    "print(s1*2)"
   ]
  },
  {
   "cell_type": "code",
   "execution_count": 31,
   "id": "290baee4",
   "metadata": {},
   "outputs": [
    {
     "name": "stdout",
     "output_type": "stream",
     "text": [
      "Hello2\n"
     ]
    }
   ],
   "source": [
    "s1=\"Hello\"\n",
    "print(s1+'2')"
   ]
  },
  {
   "cell_type": "code",
   "execution_count": 30,
   "id": "a09375d5",
   "metadata": {},
   "outputs": [
    {
     "name": "stdout",
     "output_type": "stream",
     "text": [
      "HelloHelloHelloHello\n"
     ]
    }
   ],
   "source": [
    "s1=\"Hello\"\n",
    "print(s1*4)"
   ]
  },
  {
   "cell_type": "code",
   "execution_count": 1,
   "id": "b15a0f55",
   "metadata": {},
   "outputs": [
    {
     "ename": "TypeError",
     "evalue": "can't multiply sequence by non-int of type 'float'",
     "output_type": "error",
     "traceback": [
      "\u001b[1;31m---------------------------------------------------------------------------\u001b[0m",
      "\u001b[1;31mTypeError\u001b[0m                                 Traceback (most recent call last)",
      "\u001b[1;32m~\\AppData\\Local\\Temp/ipykernel_9164/600177760.py\u001b[0m in \u001b[0;36m<module>\u001b[1;34m\u001b[0m\n\u001b[0;32m      1\u001b[0m \u001b[0ms1\u001b[0m\u001b[1;33m=\u001b[0m\u001b[1;34m\"Helloo\"\u001b[0m\u001b[1;33m\u001b[0m\u001b[1;33m\u001b[0m\u001b[0m\n\u001b[1;32m----> 2\u001b[1;33m \u001b[0mprint\u001b[0m\u001b[1;33m(\u001b[0m\u001b[0ms1\u001b[0m\u001b[1;33m*\u001b[0m\u001b[1;36m2.5\u001b[0m\u001b[1;33m)\u001b[0m\u001b[1;33m\u001b[0m\u001b[1;33m\u001b[0m\u001b[0m\n\u001b[0m",
      "\u001b[1;31mTypeError\u001b[0m: can't multiply sequence by non-int of type 'float'"
     ]
    }
   ],
   "source": [
    "s1=\"Helloo\"\n",
    "print(s1*2.5)"
   ]
  },
  {
   "cell_type": "markdown",
   "id": "d8eefbd0",
   "metadata": {},
   "source": [
    "# len()"
   ]
  },
  {
   "cell_type": "code",
   "execution_count": 2,
   "id": "dc2ba049",
   "metadata": {},
   "outputs": [
    {
     "name": "stdout",
     "output_type": "stream",
     "text": [
      "6\n"
     ]
    }
   ],
   "source": [
    "s=\"Hello\"\n",
    "print(len(s))"
   ]
  },
  {
   "cell_type": "markdown",
   "id": "c8562d26",
   "metadata": {},
   "source": [
    "# count()"
   ]
  },
  {
   "cell_type": "code",
   "execution_count": 2,
   "id": "de786619",
   "metadata": {},
   "outputs": [
    {
     "data": {
      "text/plain": [
       "6"
      ]
     },
     "execution_count": 2,
     "metadata": {},
     "output_type": "execute_result"
    }
   ],
   "source": [
    "s=\"Heeeeeeeeelllllloooo\"\n",
    "s.count('l')"
   ]
  },
  {
   "cell_type": "code",
   "execution_count": 34,
   "id": "f80a27f0",
   "metadata": {},
   "outputs": [
    {
     "data": {
      "text/plain": [
       "3"
      ]
     },
     "execution_count": 34,
     "metadata": {},
     "output_type": "execute_result"
    }
   ],
   "source": [
    "s=\"Hello Hello Hello\"\n",
    "s.count(\"Hello\")"
   ]
  },
  {
   "cell_type": "code",
   "execution_count": 2,
   "id": "35e1de82",
   "metadata": {},
   "outputs": [
    {
     "name": "stdout",
     "output_type": "stream",
     "text": [
      "True\n"
     ]
    }
   ],
   "source": [
    "s=\"Hello\"\n",
    "print('H' in s)"
   ]
  },
  {
   "cell_type": "code",
   "execution_count": 5,
   "id": "e0d899de",
   "metadata": {},
   "outputs": [
    {
     "name": "stdout",
     "output_type": "stream",
     "text": [
      "True\n"
     ]
    }
   ],
   "source": [
    "s=\"Hello Good evening All\"\n",
    "print(\"Good\" in s)"
   ]
  },
  {
   "cell_type": "code",
   "execution_count": 8,
   "id": "3d851cd5",
   "metadata": {},
   "outputs": [
    {
     "name": "stdout",
     "output_type": "stream",
     "text": [
      "False\n"
     ]
    }
   ],
   "source": [
    "s=\"Hello Good evening All\"\n",
    "print(\"good\" in s)"
   ]
  },
  {
   "cell_type": "markdown",
   "id": "97123e64",
   "metadata": {},
   "source": [
    "# comparison of strings"
   ]
  },
  {
   "cell_type": "code",
   "execution_count": null,
   "id": "8193c6c8",
   "metadata": {},
   "outputs": [],
   "source": [
    "<,<=,>,>=,==,!="
   ]
  },
  {
   "cell_type": "code",
   "execution_count": 35,
   "id": "a02a751e",
   "metadata": {},
   "outputs": [
    {
     "name": "stdout",
     "output_type": "stream",
     "text": [
      "Both are same\n"
     ]
    }
   ],
   "source": [
    "s1=\"Hello\"\n",
    "s2=\"Hello\"\n",
    "if s1==s2:\n",
    "    print(\"Both are same\")\n",
    "else:\n",
    "    print(\"Different strings\")"
   ]
  },
  {
   "cell_type": "code",
   "execution_count": 36,
   "id": "857854c3",
   "metadata": {},
   "outputs": [
    {
     "name": "stdout",
     "output_type": "stream",
     "text": [
      "Different strings\n"
     ]
    }
   ],
   "source": [
    "s1=\"Hello\"\n",
    "s2=\"hello\"\n",
    "if s1==s2:\n",
    "    print(\"Both are same\")\n",
    "else:\n",
    "    print(\"Different strings\")"
   ]
  },
  {
   "cell_type": "code",
   "execution_count": 9,
   "id": "89b024de",
   "metadata": {},
   "outputs": [
    {
     "name": "stdout",
     "output_type": "stream",
     "text": [
      "s1 is smaller than s2\n"
     ]
    }
   ],
   "source": [
    "s1=\"ABC\"\n",
    "s2=\"Abc\"\n",
    "if s1<s2:\n",
    "    print(\"s1 is smaller than s2\")\n",
    "else:\n",
    "    print(\"s2 is smaller than s1\")"
   ]
  },
  {
   "cell_type": "code",
   "execution_count": 3,
   "id": "2cd93e97",
   "metadata": {},
   "outputs": [
    {
     "name": "stdout",
     "output_type": "stream",
     "text": [
      "s2 is Greater than s1\n"
     ]
    }
   ],
   "source": [
    "s1=\"Hello\"\n",
    "s2=\"hello\"\n",
    "if s1>=s2:\n",
    "    print(\"s1 is smaller than s2\")\n",
    "else:\n",
    "    print(\"s2 is Greater than s1\")"
   ]
  },
  {
   "cell_type": "code",
   "execution_count": null,
   "id": "8d123967",
   "metadata": {},
   "outputs": [],
   "source": []
  },
  {
   "cell_type": "markdown",
   "id": "20006e49",
   "metadata": {},
   "source": [
    "# Removing spaces from the string"
   ]
  },
  {
   "cell_type": "code",
   "execution_count": null,
   "id": "1dd0c970",
   "metadata": {},
   "outputs": [],
   "source": [
    "rstrip() --->used to remove spaces on right side of given string\n",
    "lstrip() --->used to remove spaces on left side of given string\n",
    "strip()  ---> used to remove spaces on both sides of given string"
   ]
  },
  {
   "cell_type": "code",
   "execution_count": 3,
   "id": "8f740024",
   "metadata": {},
   "outputs": [
    {
     "name": "stdout",
     "output_type": "stream",
     "text": [
      "Enter string        venky\n",
      "        venky\n"
     ]
    }
   ],
   "source": [
    "s=input(\"Enter string\")\n",
    "print(s)"
   ]
  },
  {
   "cell_type": "code",
   "execution_count": 4,
   "id": "fb8e48ce",
   "metadata": {},
   "outputs": [
    {
     "name": "stdout",
     "output_type": "stream",
     "text": [
      "Enter string      venky\n",
      "venky\n"
     ]
    }
   ],
   "source": [
    "s=input(\"Enter string\")\n",
    "print(s.lstrip())"
   ]
  },
  {
   "cell_type": "code",
   "execution_count": 5,
   "id": "689cfc2d",
   "metadata": {},
   "outputs": [
    {
     "name": "stdout",
     "output_type": "stream",
     "text": [
      "Both are same\n"
     ]
    }
   ],
   "source": [
    "s1=\"    Hello\"\n",
    "s2=\"Hello      \"\n",
    "s1=s1.strip()\n",
    "s2=s2.strip()\n",
    "if s1==s2:\n",
    "    print(\"Both are same\")\n",
    "else:\n",
    "    print(\"Different strings\")"
   ]
  },
  {
   "cell_type": "code",
   "execution_count": 7,
   "id": "39e3ebae",
   "metadata": {},
   "outputs": [
    {
     "name": "stdout",
     "output_type": "stream",
     "text": [
      "Both are same\n"
     ]
    }
   ],
   "source": [
    "s1=\"    Hello\"\n",
    "s2=\"Hello      \"\n",
    "s1=s1.lstrip()\n",
    "s2=s2.rstrip()\n",
    "if s1==s2:\n",
    "    print(\"Both are same\")\n",
    "else:\n",
    "    print(\"Different strings\")"
   ]
  },
  {
   "cell_type": "code",
   "execution_count": 44,
   "id": "c1c8d79a",
   "metadata": {},
   "outputs": [
    {
     "name": "stdout",
     "output_type": "stream",
     "text": [
      "Both are same\n"
     ]
    }
   ],
   "source": [
    "s1=\"    Hello\"\n",
    "s2=\"     Hello      \"\n",
    "s1=s1.strip()\n",
    "s2=s2.strip()\n",
    "if s1==s2:\n",
    "    print(\"Both are same\")\n",
    "else:\n",
    "    print(\"Different strings\")"
   ]
  },
  {
   "cell_type": "markdown",
   "id": "fc1bf5d2",
   "metadata": {},
   "source": [
    "# find()"
   ]
  },
  {
   "cell_type": "code",
   "execution_count": null,
   "id": "f2c93e16",
   "metadata": {},
   "outputs": [],
   "source": [
    "membership operators: \n",
    "    1. in \n",
    "    2. not in\n",
    "    "
   ]
  },
  {
   "cell_type": "code",
   "execution_count": 9,
   "id": "32a49a9e",
   "metadata": {},
   "outputs": [
    {
     "name": "stdout",
     "output_type": "stream",
     "text": [
      "True\n"
     ]
    }
   ],
   "source": [
    "s=\"Hello Good morning\"\n",
    "print(\"Hello\" in s)"
   ]
  },
  {
   "cell_type": "code",
   "execution_count": 10,
   "id": "c8309146",
   "metadata": {},
   "outputs": [
    {
     "name": "stdout",
     "output_type": "stream",
     "text": [
      "False\n"
     ]
    }
   ],
   "source": [
    "s=\"Hello Good morning\"\n",
    "print(\"hello\" in s)"
   ]
  },
  {
   "cell_type": "code",
   "execution_count": 8,
   "id": "05298264",
   "metadata": {},
   "outputs": [
    {
     "name": "stdout",
     "output_type": "stream",
     "text": [
      "True\n"
     ]
    }
   ],
   "source": [
    "s=\"Hello Good  morning\"\n",
    "print(\"hello\" not in s)"
   ]
  },
  {
   "cell_type": "code",
   "execution_count": 13,
   "id": "e4996d15",
   "metadata": {},
   "outputs": [
    {
     "name": "stdout",
     "output_type": "stream",
     "text": [
      "True\n"
     ]
    }
   ],
   "source": [
    "s=\"Hello    Good Good morning\"\n",
    "print(\"hello\" not in s)"
   ]
  },
  {
   "cell_type": "code",
   "execution_count": 14,
   "id": "2dc63f75",
   "metadata": {},
   "outputs": [
    {
     "name": "stdout",
     "output_type": "stream",
     "text": [
      "9\n"
     ]
    }
   ],
   "source": [
    "print(s.find(\"Good\"))"
   ]
  },
  {
   "cell_type": "code",
   "execution_count": 15,
   "id": "20fce4b4",
   "metadata": {},
   "outputs": [
    {
     "name": "stdout",
     "output_type": "stream",
     "text": [
      "-1\n"
     ]
    }
   ],
   "source": [
    "print(s.find(\"Gooddfds\"))"
   ]
  },
  {
   "cell_type": "code",
   "execution_count": 14,
   "id": "90cd6a77",
   "metadata": {},
   "outputs": [
    {
     "name": "stdout",
     "output_type": "stream",
     "text": [
      "11\n"
     ]
    }
   ],
   "source": [
    "print(s.find(\"morning\"))"
   ]
  },
  {
   "cell_type": "code",
   "execution_count": 15,
   "id": "9dade10d",
   "metadata": {},
   "outputs": [
    {
     "name": "stdout",
     "output_type": "stream",
     "text": [
      "-1\n"
     ]
    }
   ],
   "source": [
    "print(s.find(\"venky\"))"
   ]
  },
  {
   "cell_type": "code",
   "execution_count": 16,
   "id": "d3a11204",
   "metadata": {},
   "outputs": [
    {
     "name": "stdout",
     "output_type": "stream",
     "text": [
      "0\n"
     ]
    }
   ],
   "source": [
    "s=\"Hello Hello Hello\"\n",
    "print(s.find(\"Hello\"))"
   ]
  },
  {
   "cell_type": "code",
   "execution_count": null,
   "id": "d3015444",
   "metadata": {},
   "outputs": [],
   "source": [
    "s.find(substring, startindex,endindex)"
   ]
  },
  {
   "cell_type": "code",
   "execution_count": 21,
   "id": "a3ce8e6e",
   "metadata": {},
   "outputs": [
    {
     "name": "stdout",
     "output_type": "stream",
     "text": [
      "21\n"
     ]
    }
   ],
   "source": [
    "s=\"Hello Good Morning, Hello\"\n",
    "print(s.find(\"e\",10,25))"
   ]
  },
  {
   "cell_type": "code",
   "execution_count": 15,
   "id": "03a0d8b5",
   "metadata": {},
   "outputs": [
    {
     "name": "stdout",
     "output_type": "stream",
     "text": [
      "Enter string to check:all\n",
      "String found at: 19\n"
     ]
    }
   ],
   "source": [
    "s=\"Hello Good Morning all\"\n",
    "x=input(\"Enter string to check:\")\n",
    "y=s.find(x)\n",
    "if y==-1:\n",
    "    print(\"String not found\")\n",
    "else:\n",
    "    print(\"String found at:\",y)"
   ]
  },
  {
   "cell_type": "markdown",
   "id": "a837e4a8",
   "metadata": {},
   "source": [
    "# index()"
   ]
  },
  {
   "cell_type": "code",
   "execution_count": 22,
   "id": "b0db9fc1",
   "metadata": {
    "scrolled": true
   },
   "outputs": [
    {
     "name": "stdout",
     "output_type": "stream",
     "text": [
      "6\n"
     ]
    }
   ],
   "source": [
    "s=\"Hello Good Morning\"\n",
    "print(s.index(\"Good\"))"
   ]
  },
  {
   "cell_type": "code",
   "execution_count": 23,
   "id": "52c910b5",
   "metadata": {
    "scrolled": true
   },
   "outputs": [
    {
     "ename": "ValueError",
     "evalue": "substring not found",
     "output_type": "error",
     "traceback": [
      "\u001b[1;31m---------------------------------------------------------------------------\u001b[0m",
      "\u001b[1;31mValueError\u001b[0m                                Traceback (most recent call last)",
      "\u001b[1;32m~\\AppData\\Local\\Temp/ipykernel_9164/870413182.py\u001b[0m in \u001b[0;36m<module>\u001b[1;34m\u001b[0m\n\u001b[0;32m      1\u001b[0m \u001b[0ms\u001b[0m\u001b[1;33m=\u001b[0m\u001b[1;34m\"Hello Good Morning\"\u001b[0m\u001b[1;33m\u001b[0m\u001b[1;33m\u001b[0m\u001b[0m\n\u001b[1;32m----> 2\u001b[1;33m \u001b[0mprint\u001b[0m\u001b[1;33m(\u001b[0m\u001b[0ms\u001b[0m\u001b[1;33m.\u001b[0m\u001b[0mindex\u001b[0m\u001b[1;33m(\u001b[0m\u001b[1;34m\"venky\"\u001b[0m\u001b[1;33m)\u001b[0m\u001b[1;33m)\u001b[0m\u001b[1;33m\u001b[0m\u001b[1;33m\u001b[0m\u001b[0m\n\u001b[0m",
      "\u001b[1;31mValueError\u001b[0m: substring not found"
     ]
    }
   ],
   "source": [
    "s=\"Hello Good Morning\"\n",
    "print(s.index(\"venky\"))"
   ]
  },
  {
   "cell_type": "code",
   "execution_count": 7,
   "id": "26374a3d",
   "metadata": {},
   "outputs": [
    {
     "name": "stdout",
     "output_type": "stream",
     "text": [
      "String found\n"
     ]
    }
   ],
   "source": [
    "s=\"Hello Good Morning\"\n",
    "try:\n",
    "    x=s.index(\"Good\")\n",
    "except ValueError:\n",
    "    print(\"String not found\")\n",
    "else:\n",
    "    print(\"String found\")"
   ]
  },
  {
   "cell_type": "code",
   "execution_count": 8,
   "id": "cbd29712",
   "metadata": {},
   "outputs": [
    {
     "name": "stdout",
     "output_type": "stream",
     "text": [
      "6\n"
     ]
    }
   ],
   "source": [
    "print(x)"
   ]
  },
  {
   "cell_type": "markdown",
   "id": "2e6921c9",
   "metadata": {},
   "source": [
    "# counting substring in the given string"
   ]
  },
  {
   "cell_type": "code",
   "execution_count": null,
   "id": "152eb50f",
   "metadata": {},
   "outputs": [],
   "source": []
  },
  {
   "cell_type": "code",
   "execution_count": null,
   "id": "2428ed76",
   "metadata": {},
   "outputs": [],
   "source": [
    "1. s.count(substring) ---> it searches the substring through out the string\n",
    "2. s.count(substring, start, end) --> it will search from begin and end index"
   ]
  },
  {
   "cell_type": "code",
   "execution_count": 27,
   "id": "1f072036",
   "metadata": {},
   "outputs": [
    {
     "name": "stdout",
     "output_type": "stream",
     "text": [
      "1\n"
     ]
    }
   ],
   "source": [
    "s=\"Helllllllloooooooooo\"\n",
    "print(s.count('H'))"
   ]
  },
  {
   "cell_type": "code",
   "execution_count": 28,
   "id": "facd764f",
   "metadata": {},
   "outputs": [
    {
     "name": "stdout",
     "output_type": "stream",
     "text": [
      "8\n"
     ]
    }
   ],
   "source": [
    "s=\"Helllllllloooooooooo\"\n",
    "print(s.count('l'))"
   ]
  },
  {
   "cell_type": "code",
   "execution_count": 30,
   "id": "bd3c28f2",
   "metadata": {},
   "outputs": [
    {
     "name": "stdout",
     "output_type": "stream",
     "text": [
      "4\n"
     ]
    }
   ],
   "source": [
    "s=\"Hello Hello Hello Hello\"\n",
    "print(s.count('Hello'))"
   ]
  },
  {
   "cell_type": "code",
   "execution_count": 31,
   "id": "d65b6056",
   "metadata": {},
   "outputs": [
    {
     "name": "stdout",
     "output_type": "stream",
     "text": [
      "6\n"
     ]
    }
   ],
   "source": [
    "s=\"Helllllllloooooooooo\"\n",
    "print(s.count('l',4,20))"
   ]
  },
  {
   "cell_type": "markdown",
   "id": "ec67255d",
   "metadata": {},
   "source": [
    "# replace()"
   ]
  },
  {
   "cell_type": "code",
   "execution_count": 13,
   "id": "4f1d44a8",
   "metadata": {},
   "outputs": [
    {
     "name": "stdout",
     "output_type": "stream",
     "text": [
      "2191608766912\n",
      "2191608766912\n",
      "[99, 20, 30]\n"
     ]
    }
   ],
   "source": [
    "l=[10,20,30]\n",
    "print(id(l))\n",
    "l[0]=99\n",
    "print(id(l))\n",
    "print(l)"
   ]
  },
  {
   "cell_type": "code",
   "execution_count": 1,
   "id": "d52170c4",
   "metadata": {},
   "outputs": [
    {
     "ename": "TypeError",
     "evalue": "'str' object does not support item assignment",
     "output_type": "error",
     "traceback": [
      "\u001b[1;31m---------------------------------------------------------------------------\u001b[0m",
      "\u001b[1;31mTypeError\u001b[0m                                 Traceback (most recent call last)",
      "\u001b[1;32m~\\AppData\\Local\\Temp/ipykernel_8144/3318297716.py\u001b[0m in \u001b[0;36m<module>\u001b[1;34m\u001b[0m\n\u001b[0;32m      1\u001b[0m \u001b[0ms\u001b[0m\u001b[1;33m=\u001b[0m\u001b[1;34m\"Hello\"\u001b[0m\u001b[1;33m\u001b[0m\u001b[1;33m\u001b[0m\u001b[0m\n\u001b[1;32m----> 2\u001b[1;33m \u001b[0ms\u001b[0m\u001b[1;33m[\u001b[0m\u001b[1;36m0\u001b[0m\u001b[1;33m]\u001b[0m\u001b[1;33m=\u001b[0m\u001b[1;34m'h'\u001b[0m\u001b[1;33m\u001b[0m\u001b[1;33m\u001b[0m\u001b[0m\n\u001b[0m",
      "\u001b[1;31mTypeError\u001b[0m: 'str' object does not support item assignment"
     ]
    }
   ],
   "source": [
    "s=\"Hello\"\n",
    "s[0]='h'"
   ]
  },
  {
   "cell_type": "code",
   "execution_count": 4,
   "id": "94520195",
   "metadata": {},
   "outputs": [
    {
     "name": "stdout",
     "output_type": "stream",
     "text": [
      "2234709383664\n",
      "2234709381680\n",
      "Hello Sashi\n"
     ]
    }
   ],
   "source": [
    "s=\"Hello Venky\"\n",
    "print(id(s))\n",
    "s1=s.replace(\"Venky\",\"Sashi\")\n",
    "print(id(s1))\n",
    "print(s1)"
   ]
  },
  {
   "cell_type": "code",
   "execution_count": 33,
   "id": "2ac86541",
   "metadata": {},
   "outputs": [
    {
     "name": "stdout",
     "output_type": "stream",
     "text": [
      "H\n"
     ]
    }
   ],
   "source": [
    "s=\"Hello Venky\"\n",
    "print(s[0])"
   ]
  },
  {
   "cell_type": "code",
   "execution_count": 34,
   "id": "7439bc2b",
   "metadata": {},
   "outputs": [
    {
     "ename": "TypeError",
     "evalue": "'str' object does not support item assignment",
     "output_type": "error",
     "traceback": [
      "\u001b[1;31m---------------------------------------------------------------------------\u001b[0m",
      "\u001b[1;31mTypeError\u001b[0m                                 Traceback (most recent call last)",
      "\u001b[1;32m~\\AppData\\Local\\Temp/ipykernel_9164/1275498461.py\u001b[0m in \u001b[0;36m<module>\u001b[1;34m\u001b[0m\n\u001b[1;32m----> 1\u001b[1;33m \u001b[0ms\u001b[0m\u001b[1;33m[\u001b[0m\u001b[1;36m0\u001b[0m\u001b[1;33m]\u001b[0m\u001b[1;33m=\u001b[0m\u001b[1;34m'B'\u001b[0m\u001b[1;33m\u001b[0m\u001b[1;33m\u001b[0m\u001b[0m\n\u001b[0m",
      "\u001b[1;31mTypeError\u001b[0m: 'str' object does not support item assignment"
     ]
    }
   ],
   "source": [
    "s[0]='B'"
   ]
  },
  {
   "cell_type": "markdown",
   "id": "3191a3eb",
   "metadata": {},
   "source": [
    "# split()"
   ]
  },
  {
   "cell_type": "code",
   "execution_count": 39,
   "id": "df40d7d5",
   "metadata": {},
   "outputs": [
    {
     "name": "stdout",
     "output_type": "stream",
     "text": [
      "Enter a,b,c values:10,20,30\n"
     ]
    }
   ],
   "source": [
    "a,b,c=[int(x) for x in input(\"Enter a,b,c values:\").split(',')]"
   ]
  },
  {
   "cell_type": "code",
   "execution_count": 4,
   "id": "31314a5a",
   "metadata": {},
   "outputs": [
    {
     "name": "stdout",
     "output_type": "stream",
     "text": [
      "['5', '3', '2022']\n"
     ]
    }
   ],
   "source": [
    "s=\"5-3-2022\"\n",
    "l=s.split('-')\n",
    "print(l)\n"
   ]
  },
  {
   "cell_type": "code",
   "execution_count": 17,
   "id": "909e7400",
   "metadata": {},
   "outputs": [
    {
     "name": "stdout",
     "output_type": "stream",
     "text": [
      "5\n",
      "3\n",
      "2022\n"
     ]
    }
   ],
   "source": [
    "s=\"5/3/2022\"\n",
    "l=s.split('/')\n",
    "for i in l:\n",
    "    print(i)\n"
   ]
  },
  {
   "cell_type": "code",
   "execution_count": 3,
   "id": "2c02fb43",
   "metadata": {},
   "outputs": [
    {
     "name": "stdout",
     "output_type": "stream",
     "text": [
      "5:3:\n",
      "0\n",
      "\n",
      "\n"
     ]
    }
   ],
   "source": [
    "s=\"5:3:2022\"\n",
    "l=s.split(':')\n",
    "for i in l:\n",
    "    print(i)\n"
   ]
  },
  {
   "cell_type": "code",
   "execution_count": 42,
   "id": "90896d98",
   "metadata": {},
   "outputs": [
    {
     "name": "stdout",
     "output_type": "stream",
     "text": [
      "Hello\n",
      "venky\n",
      "puneeth\n",
      "sashi\n",
      "satish\n"
     ]
    }
   ],
   "source": [
    "s=\"Hello venky puneeth sashi satish\"\n",
    "l=s.split()\n",
    "for i in l:\n",
    "    print(i)\n"
   ]
  },
  {
   "cell_type": "markdown",
   "id": "6dde5d69",
   "metadata": {},
   "source": [
    "# join()"
   ]
  },
  {
   "cell_type": "code",
   "execution_count": 6,
   "id": "5c34624a",
   "metadata": {},
   "outputs": [
    {
     "name": "stdout",
     "output_type": "stream",
     "text": [
      "Hello Venky Sashi\n"
     ]
    }
   ],
   "source": [
    "t=(\"Hello\",\"Venky\",\"Sashi\")\n",
    "s=' '.join(t)\n",
    "print(s)"
   ]
  },
  {
   "cell_type": "code",
   "execution_count": 7,
   "id": "a02a9520",
   "metadata": {},
   "outputs": [
    {
     "name": "stdout",
     "output_type": "stream",
     "text": [
      "Hello::Venky::Sashi\n"
     ]
    }
   ],
   "source": [
    "t=(\"Hello\",\"Venky\",\"Sashi\")\n",
    "s='::'.join(t)\n",
    "print(s)"
   ]
  },
  {
   "cell_type": "code",
   "execution_count": 45,
   "id": "446e7ce0",
   "metadata": {},
   "outputs": [
    {
     "name": "stdout",
     "output_type": "stream",
     "text": [
      "5/3/2022\n"
     ]
    }
   ],
   "source": [
    "t=(\"5\",\"3\",\"2022\")\n",
    "s='/'.join(t)\n",
    "print(s)"
   ]
  },
  {
   "cell_type": "code",
   "execution_count": 46,
   "id": "ab6f2655",
   "metadata": {},
   "outputs": [
    {
     "ename": "TypeError",
     "evalue": "sequence item 0: expected str instance, int found",
     "output_type": "error",
     "traceback": [
      "\u001b[1;31m---------------------------------------------------------------------------\u001b[0m",
      "\u001b[1;31mTypeError\u001b[0m                                 Traceback (most recent call last)",
      "\u001b[1;32m~\\AppData\\Local\\Temp/ipykernel_9164/959963634.py\u001b[0m in \u001b[0;36m<module>\u001b[1;34m\u001b[0m\n\u001b[0;32m      1\u001b[0m \u001b[0mt\u001b[0m\u001b[1;33m=\u001b[0m\u001b[1;33m(\u001b[0m\u001b[1;36m10\u001b[0m\u001b[1;33m,\u001b[0m\u001b[1;36m20\u001b[0m\u001b[1;33m,\u001b[0m\u001b[1;36m30\u001b[0m\u001b[1;33m)\u001b[0m\u001b[1;33m\u001b[0m\u001b[1;33m\u001b[0m\u001b[0m\n\u001b[1;32m----> 2\u001b[1;33m \u001b[0ms\u001b[0m\u001b[1;33m=\u001b[0m\u001b[1;34m' '\u001b[0m\u001b[1;33m.\u001b[0m\u001b[0mjoin\u001b[0m\u001b[1;33m(\u001b[0m\u001b[0mt\u001b[0m\u001b[1;33m)\u001b[0m\u001b[1;33m\u001b[0m\u001b[1;33m\u001b[0m\u001b[0m\n\u001b[0m\u001b[0;32m      3\u001b[0m \u001b[0mprint\u001b[0m\u001b[1;33m(\u001b[0m\u001b[0ms\u001b[0m\u001b[1;33m)\u001b[0m\u001b[1;33m\u001b[0m\u001b[1;33m\u001b[0m\u001b[0m\n",
      "\u001b[1;31mTypeError\u001b[0m: sequence item 0: expected str instance, int found"
     ]
    }
   ],
   "source": [
    "t=(10,20,30)\n",
    "s=' '.join(t)\n",
    "print(s)"
   ]
  },
  {
   "cell_type": "markdown",
   "id": "360449a1",
   "metadata": {},
   "source": [
    "# changing case of string"
   ]
  },
  {
   "cell_type": "markdown",
   "id": "93ef60f4",
   "metadata": {},
   "source": [
    "# upper()"
   ]
  },
  {
   "cell_type": "code",
   "execution_count": null,
   "id": "9d867dd0",
   "metadata": {},
   "outputs": [],
   "source": [
    "converts lowercase character to uppercase"
   ]
  },
  {
   "cell_type": "code",
   "execution_count": 8,
   "id": "66c2d26b",
   "metadata": {},
   "outputs": [
    {
     "name": "stdout",
     "output_type": "stream",
     "text": [
      "HELLO123\n"
     ]
    }
   ],
   "source": [
    "s=\"Hello123\"\n",
    "print(s.upper())"
   ]
  },
  {
   "cell_type": "markdown",
   "id": "eae4b789",
   "metadata": {},
   "source": [
    "# lower()"
   ]
  },
  {
   "cell_type": "code",
   "execution_count": 48,
   "id": "1b651e2d",
   "metadata": {},
   "outputs": [
    {
     "name": "stdout",
     "output_type": "stream",
     "text": [
      "hello venky\n"
     ]
    }
   ],
   "source": [
    "s=\"HELLO VENKY\"\n",
    "print(s.lower())"
   ]
  },
  {
   "cell_type": "markdown",
   "id": "837b3f4f",
   "metadata": {},
   "source": [
    "# swapcase()"
   ]
  },
  {
   "cell_type": "code",
   "execution_count": 49,
   "id": "208bdc29",
   "metadata": {},
   "outputs": [
    {
     "name": "stdout",
     "output_type": "stream",
     "text": [
      "hELLO vENKY\n"
     ]
    }
   ],
   "source": [
    "s=\"Hello Venky\"\n",
    "print(s.swapcase())"
   ]
  },
  {
   "cell_type": "markdown",
   "id": "330d7823",
   "metadata": {},
   "source": [
    "# title()"
   ]
  },
  {
   "cell_type": "code",
   "execution_count": 50,
   "id": "d53296c5",
   "metadata": {},
   "outputs": [
    {
     "name": "stdout",
     "output_type": "stream",
     "text": [
      "Hello Venky Good Morning\n"
     ]
    }
   ],
   "source": [
    "s=\"hello venky good morning\"\n",
    "print(s.title())"
   ]
  },
  {
   "cell_type": "markdown",
   "id": "54c1d228",
   "metadata": {},
   "source": [
    "# capitalize()"
   ]
  },
  {
   "cell_type": "code",
   "execution_count": 51,
   "id": "7651151f",
   "metadata": {},
   "outputs": [
    {
     "name": "stdout",
     "output_type": "stream",
     "text": [
      "Hello venky good morning\n"
     ]
    }
   ],
   "source": [
    "s=\"hello venky good morning\"\n",
    "print(s.capitalize())"
   ]
  },
  {
   "cell_type": "markdown",
   "id": "d85ccbf7",
   "metadata": {},
   "source": [
    "# Checking starting and ending of the given string"
   ]
  },
  {
   "cell_type": "code",
   "execution_count": null,
   "id": "0eb7bd29",
   "metadata": {},
   "outputs": [],
   "source": [
    "startswith(string)\n",
    "endswith(string)"
   ]
  },
  {
   "cell_type": "code",
   "execution_count": 52,
   "id": "8769e543",
   "metadata": {},
   "outputs": [
    {
     "name": "stdout",
     "output_type": "stream",
     "text": [
      "True\n"
     ]
    }
   ],
   "source": [
    "s=\"How are you ?\"\n",
    "print(s.startswith(\"How\"))"
   ]
  },
  {
   "cell_type": "code",
   "execution_count": 11,
   "id": "5f0e853e",
   "metadata": {},
   "outputs": [
    {
     "name": "stdout",
     "output_type": "stream",
     "text": [
      "True\n"
     ]
    }
   ],
   "source": [
    "s=\"How are you?\"\n",
    "print(s.endswith(\"?\"))"
   ]
  },
  {
   "cell_type": "code",
   "execution_count": 55,
   "id": "b9cb1b65",
   "metadata": {},
   "outputs": [
    {
     "name": "stdout",
     "output_type": "stream",
     "text": [
      "True\n"
     ]
    }
   ],
   "source": [
    "s=\"How are you?\"\n",
    "print(s.endswith(\"?\"))"
   ]
  },
  {
   "cell_type": "markdown",
   "id": "08b23737",
   "metadata": {},
   "source": [
    "# checking type of characters present in string"
   ]
  },
  {
   "cell_type": "markdown",
   "id": "8bf2e58f",
   "metadata": {},
   "source": [
    "isalnum() --> Returns true if all the characters are alpha numeric(0 -9, A -Z,a-z)\n"
   ]
  },
  {
   "cell_type": "code",
   "execution_count": 6,
   "id": "f57df2b1",
   "metadata": {},
   "outputs": [
    {
     "name": "stdout",
     "output_type": "stream",
     "text": [
      "Enter stringvvv\n",
      "True\n"
     ]
    }
   ],
   "source": [
    "s=input(\"Enter string\")\n",
    "print(s.isalnum())"
   ]
  },
  {
   "cell_type": "code",
   "execution_count": 58,
   "id": "fedfd344",
   "metadata": {},
   "outputs": [
    {
     "name": "stdout",
     "output_type": "stream",
     "text": [
      "Enter string@#$$#@\n",
      "False\n"
     ]
    }
   ],
   "source": [
    "s=input(\"Enter string\")\n",
    "print(s.isalnum())"
   ]
  },
  {
   "cell_type": "code",
   "execution_count": 2,
   "id": "8a51937f",
   "metadata": {},
   "outputs": [
    {
     "name": "stdout",
     "output_type": "stream",
     "text": [
      "Enter stringvenky@\n",
      "False\n"
     ]
    }
   ],
   "source": [
    "s=input(\"Enter string\")\n",
    "print(s.isalnum())"
   ]
  },
  {
   "cell_type": "markdown",
   "id": "55c33986",
   "metadata": {},
   "source": [
    "isalpha() --> Returns true if all the characters only alphabets"
   ]
  },
  {
   "cell_type": "code",
   "execution_count": 18,
   "id": "dbca5f8f",
   "metadata": {},
   "outputs": [
    {
     "name": "stdout",
     "output_type": "stream",
     "text": [
      "Enter stringvenky\n",
      "True\n"
     ]
    }
   ],
   "source": [
    "s=input(\"Enter string\")\n",
    "print(s.isalpha())"
   ]
  },
  {
   "cell_type": "code",
   "execution_count": 61,
   "id": "0584755f",
   "metadata": {},
   "outputs": [
    {
     "name": "stdout",
     "output_type": "stream",
     "text": [
      "Enter string123344\n",
      "False\n"
     ]
    }
   ],
   "source": [
    "s=input(\"Enter string\")\n",
    "print(s.isalpha())"
   ]
  },
  {
   "cell_type": "code",
   "execution_count": 62,
   "id": "d561d5f1",
   "metadata": {},
   "outputs": [
    {
     "name": "stdout",
     "output_type": "stream",
     "text": [
      "Enter stringvenky123\n",
      "False\n"
     ]
    }
   ],
   "source": [
    "s=input(\"Enter string\")\n",
    "print(s.isalpha())"
   ]
  },
  {
   "cell_type": "code",
   "execution_count": 63,
   "id": "c02376b8",
   "metadata": {},
   "outputs": [
    {
     "name": "stdout",
     "output_type": "stream",
     "text": [
      "Enter stringVenky\n",
      "True\n"
     ]
    }
   ],
   "source": [
    "s=input(\"Enter string\")\n",
    "print(s.isalpha())"
   ]
  },
  {
   "cell_type": "markdown",
   "id": "29582fd3",
   "metadata": {},
   "source": [
    "isdigit() --> returns true if all the characters are digits\n"
   ]
  },
  {
   "cell_type": "code",
   "execution_count": 64,
   "id": "19a23541",
   "metadata": {},
   "outputs": [
    {
     "name": "stdout",
     "output_type": "stream",
     "text": [
      "Enter string12345\n",
      "True\n"
     ]
    }
   ],
   "source": [
    "s=input(\"Enter string\")\n",
    "print(s.isdigit())"
   ]
  },
  {
   "cell_type": "code",
   "execution_count": 65,
   "id": "e7f0cfa2",
   "metadata": {},
   "outputs": [
    {
     "name": "stdout",
     "output_type": "stream",
     "text": [
      "Enter string1234V\n",
      "False\n"
     ]
    }
   ],
   "source": [
    "s=input(\"Enter string\")\n",
    "print(s.isdigit())"
   ]
  },
  {
   "cell_type": "code",
   "execution_count": null,
   "id": "21aa9c48",
   "metadata": {},
   "outputs": [],
   "source": [
    "islower()--> returns true if all the characters are lowercase\n",
    "isupper() --> returns true if all the characters are uppercase\n",
    "istitle() --> returns tru if the string is titlecase\n",
    "isspace() --> returns true if the string contains only spaces"
   ]
  },
  {
   "cell_type": "code",
   "execution_count": 10,
   "id": "fb958bfa",
   "metadata": {},
   "outputs": [
    {
     "name": "stdout",
     "output_type": "stream",
     "text": [
      "Enter string 1:Race\n",
      "Enter string 2:Care\n",
      "Anagram\n"
     ]
    }
   ],
   "source": [
    "#program to check the given two strings are anagram \n",
    "str1=input(\"Enter string 1:\")\n",
    "str2=input(\"Enter string 2:\")\n",
    "if(len(str1)==len(str2)):\n",
    "    lowr_str1=str1.lower()\n",
    "    lowr_str2=str2.lower()\n",
    "    sort_str1=sorted(lowr_str1)\n",
    "    sort_str2=sorted(lowr_str2)\n",
    "    if(sort_str1==sort_str2):\n",
    "        print(\"Anagram\")\n",
    "    else:\n",
    "        print(\"Not an anagram\")\n",
    "else:\n",
    "    print(\"Not an anagram\")"
   ]
  },
  {
   "cell_type": "code",
   "execution_count": null,
   "id": "e389153a",
   "metadata": {},
   "outputs": [],
   "source": []
  }
 ],
 "metadata": {
  "kernelspec": {
   "display_name": "Python 3 (ipykernel)",
   "language": "python",
   "name": "python3"
  },
  "language_info": {
   "codemirror_mode": {
    "name": "ipython",
    "version": 3
   },
   "file_extension": ".py",
   "mimetype": "text/x-python",
   "name": "python",
   "nbconvert_exporter": "python",
   "pygments_lexer": "ipython3",
   "version": "3.9.7"
  }
 },
 "nbformat": 4,
 "nbformat_minor": 5
}
