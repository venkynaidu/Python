{
 "cells": [
  {
   "cell_type": "code",
   "execution_count": null,
   "metadata": {},
   "outputs": [],
   "source": [
    "1. Syntax Errors\n",
    "2. Runtime Errors (Exceptions)"
   ]
  },
  {
   "cell_type": "markdown",
   "metadata": {},
   "source": [
    "# 1.Syntax Errors"
   ]
  },
  {
   "cell_type": "code",
   "execution_count": 7,
   "metadata": {},
   "outputs": [
    {
     "ename": "SyntaxError",
     "evalue": "invalid syntax (Temp/ipykernel_15220/112466721.py, line 1)",
     "output_type": "error",
     "traceback": [
      "\u001b[1;36m  File \u001b[1;32m\"C:\\Users\\venky\\AppData\\Local\\Temp/ipykernel_15220/112466721.py\"\u001b[1;36m, line \u001b[1;32m1\u001b[0m\n\u001b[1;33m    int x=10\u001b[0m\n\u001b[1;37m        ^\u001b[0m\n\u001b[1;31mSyntaxError\u001b[0m\u001b[1;31m:\u001b[0m invalid syntax\n"
     ]
    }
   ],
   "source": [
    "int x=10\n",
    "if x==10\n",
    "print(\"correct answer\")"
   ]
  },
  {
   "cell_type": "code",
   "execution_count": 2,
   "metadata": {},
   "outputs": [
    {
     "name": "stdout",
     "output_type": "stream",
     "text": [
      "correct answer\n"
     ]
    }
   ],
   "source": [
    "x=10\n",
    "if x==10:\n",
    "    print(\"correct answer\")"
   ]
  },
  {
   "cell_type": "code",
   "execution_count": 3,
   "metadata": {},
   "outputs": [
    {
     "ename": "SyntaxError",
     "evalue": "Missing parentheses in call to 'print'. Did you mean print(\"Hello\")? (Temp/ipykernel_9624/3583445538.py, line 1)",
     "output_type": "error",
     "traceback": [
      "\u001b[1;36m  File \u001b[1;32m\"C:\\Users\\venky\\AppData\\Local\\Temp/ipykernel_9624/3583445538.py\"\u001b[1;36m, line \u001b[1;32m1\u001b[0m\n\u001b[1;33m    print \"Hello\"\u001b[0m\n\u001b[1;37m          ^\u001b[0m\n\u001b[1;31mSyntaxError\u001b[0m\u001b[1;31m:\u001b[0m Missing parentheses in call to 'print'. Did you mean print(\"Hello\")?\n"
     ]
    }
   ],
   "source": [
    "print \"Hello\""
   ]
  },
  {
   "cell_type": "code",
   "execution_count": 8,
   "metadata": {},
   "outputs": [
    {
     "name": "stdout",
     "output_type": "stream",
     "text": [
      "Hello\n"
     ]
    }
   ],
   "source": [
    "print(\"Hello\")"
   ]
  },
  {
   "cell_type": "markdown",
   "metadata": {},
   "source": [
    "# 2. Runtime Errors:"
   ]
  },
  {
   "cell_type": "code",
   "execution_count": 4,
   "metadata": {},
   "outputs": [
    {
     "ename": "ZeroDivisionError",
     "evalue": "division by zero",
     "output_type": "error",
     "traceback": [
      "\u001b[1;31m---------------------------------------------------------------------------\u001b[0m",
      "\u001b[1;31mZeroDivisionError\u001b[0m                         Traceback (most recent call last)",
      "\u001b[1;32m~\\AppData\\Local\\Temp/ipykernel_9624/179726827.py\u001b[0m in \u001b[0;36m<module>\u001b[1;34m\u001b[0m\n\u001b[1;32m----> 1\u001b[1;33m \u001b[0mprint\u001b[0m\u001b[1;33m(\u001b[0m\u001b[1;36m10\u001b[0m\u001b[1;33m/\u001b[0m\u001b[1;36m0\u001b[0m\u001b[1;33m)\u001b[0m\u001b[1;33m\u001b[0m\u001b[1;33m\u001b[0m\u001b[0m\n\u001b[0m",
      "\u001b[1;31mZeroDivisionError\u001b[0m: division by zero"
     ]
    }
   ],
   "source": [
    "print(10/0)"
   ]
  },
  {
   "cell_type": "code",
   "execution_count": 9,
   "metadata": {},
   "outputs": [
    {
     "name": "stdout",
     "output_type": "stream",
     "text": [
      "We should not divide the number with zero.\n",
      "5.0\n"
     ]
    }
   ],
   "source": [
    "#handling of exceptions using try\n",
    "x=10\n",
    "try:\n",
    "    print(x/0)\n",
    "except ZeroDivisionError:\n",
    "    print(\"We should not divide the number with zero.\")\n",
    "    print(x/2)"
   ]
  },
  {
   "cell_type": "code",
   "execution_count": 7,
   "metadata": {},
   "outputs": [
    {
     "ename": "SyntaxError",
     "evalue": "can't assign to literal (<ipython-input-7-eec0abb80e33>, line 1)",
     "output_type": "error",
     "traceback": [
      "\u001b[1;36m  File \u001b[1;32m\"<ipython-input-7-eec0abb80e33>\"\u001b[1;36m, line \u001b[1;32m1\u001b[0m\n\u001b[1;33m    10=a\u001b[0m\n\u001b[1;37m        ^\u001b[0m\n\u001b[1;31mSyntaxError\u001b[0m\u001b[1;31m:\u001b[0m can't assign to literal\n"
     ]
    }
   ],
   "source": [
    "10=a"
   ]
  },
  {
   "cell_type": "code",
   "execution_count": 5,
   "metadata": {},
   "outputs": [
    {
     "name": "stdout",
     "output_type": "stream",
     "text": [
      "Enter value10.5\n"
     ]
    },
    {
     "ename": "ValueError",
     "evalue": "invalid literal for int() with base 10: '10.5'",
     "output_type": "error",
     "traceback": [
      "\u001b[1;31m---------------------------------------------------------------------------\u001b[0m",
      "\u001b[1;31mValueError\u001b[0m                                Traceback (most recent call last)",
      "\u001b[1;32m~\\AppData\\Local\\Temp/ipykernel_15220/2357080218.py\u001b[0m in \u001b[0;36m<module>\u001b[1;34m\u001b[0m\n\u001b[1;32m----> 1\u001b[1;33m \u001b[0mx\u001b[0m\u001b[1;33m=\u001b[0m\u001b[0mint\u001b[0m\u001b[1;33m(\u001b[0m\u001b[0minput\u001b[0m\u001b[1;33m(\u001b[0m\u001b[1;34m\"Enter value\"\u001b[0m\u001b[1;33m)\u001b[0m\u001b[1;33m)\u001b[0m\u001b[1;33m\u001b[0m\u001b[1;33m\u001b[0m\u001b[0m\n\u001b[0m",
      "\u001b[1;31mValueError\u001b[0m: invalid literal for int() with base 10: '10.5'"
     ]
    }
   ],
   "source": [
    "x=int(input(\"Enter value\"))"
   ]
  },
  {
   "cell_type": "code",
   "execution_count": 6,
   "metadata": {},
   "outputs": [
    {
     "name": "stdout",
     "output_type": "stream",
     "text": [
      "Enter number10.5\n",
      "Enter only numbers\n"
     ]
    }
   ],
   "source": [
    "try:\n",
    "    x=int(input(\"Enter number\"))\n",
    "except ValueError:\n",
    "    print(\"Enter only numbers\")"
   ]
  },
  {
   "cell_type": "code",
   "execution_count": 12,
   "metadata": {},
   "outputs": [
    {
     "ename": "NameError",
     "evalue": "name 'y' is not defined",
     "output_type": "error",
     "traceback": [
      "\u001b[1;31m---------------------------------------------------------------------------\u001b[0m",
      "\u001b[1;31mNameError\u001b[0m                                 Traceback (most recent call last)",
      "\u001b[1;32m~\\AppData\\Local\\Temp/ipykernel_4608/1056546137.py\u001b[0m in \u001b[0;36m<module>\u001b[1;34m\u001b[0m\n\u001b[1;32m----> 1\u001b[1;33m \u001b[0mprint\u001b[0m\u001b[1;33m(\u001b[0m\u001b[0my\u001b[0m\u001b[1;33m)\u001b[0m\u001b[1;33m\u001b[0m\u001b[1;33m\u001b[0m\u001b[0m\n\u001b[0m",
      "\u001b[1;31mNameError\u001b[0m: name 'y' is not defined"
     ]
    }
   ],
   "source": [
    "print(y)"
   ]
  },
  {
   "cell_type": "code",
   "execution_count": 8,
   "metadata": {},
   "outputs": [
    {
     "name": "stdout",
     "output_type": "stream",
     "text": [
      "Enter number:10\n",
      "10\n"
     ]
    }
   ],
   "source": [
    "try:\n",
    "    y=int(input(\"Enter number:\"))\n",
    "except ValueError:\n",
    "    print(\"You should not enter string as input...please enter only numbers..\")\n",
    "\n",
    "try:\n",
    "    print(y)\n",
    "except NameError:\n",
    "    print(\"y is not defined please define the y with some value....\")"
   ]
  },
  {
   "cell_type": "markdown",
   "metadata": {},
   "source": [
    "### try:  .... with multiple exceptions"
   ]
  },
  {
   "cell_type": "code",
   "execution_count": 2,
   "metadata": {},
   "outputs": [
    {
     "name": "stdout",
     "output_type": "stream",
     "text": [
      "10\n",
      "Enter number:20.5\n",
      "You should not enter string as input...please enter only numbers..\n"
     ]
    }
   ],
   "source": [
    "y=10\n",
    "try:\n",
    "    print(y)\n",
    "    y=int(input(\"Enter number:\"))\n",
    "    \n",
    "except ValueError:\n",
    "    print(\"You should not enter string as input...please enter only numbers..\")\n",
    "\n",
    "except NameError:\n",
    "    print(\"y is not defined please define the y with some value....\")"
   ]
  },
  {
   "cell_type": "code",
   "execution_count": 11,
   "metadata": {},
   "outputs": [
    {
     "name": "stdout",
     "output_type": "stream",
     "text": [
      "Enter a value:10\n",
      "Enter b Value:0\n",
      "Arithmetic error\n"
     ]
    }
   ],
   "source": [
    "try:\n",
    "    a=int(input(\"Enter a value:\"))\n",
    "    b=int(input(\"Enter b Value:\"))\n",
    "    print(a/b)\n",
    "except ArithmeticError:\n",
    "    print(\"Arithmetic error\")\n",
    "except ZeroDivisionError:\n",
    "    print(\"We should not divide with zero\")"
   ]
  },
  {
   "cell_type": "markdown",
   "metadata": {},
   "source": [
    "### Single except block with multiple errors:"
   ]
  },
  {
   "cell_type": "code",
   "execution_count": 5,
   "metadata": {},
   "outputs": [
    {
     "name": "stdout",
     "output_type": "stream",
     "text": [
      "Enter a value:10\n",
      "Enter b Value:\n",
      " We got exceptions is: invalid literal for int() with base 10: ''\n"
     ]
    }
   ],
   "source": [
    "try:\n",
    "    a=int(input(\"Enter a value:\"))\n",
    "    b=int(input(\"Enter b Value:\"))\n",
    "    print(a/b)\n",
    "except(ZeroDivisionError,ValueError, NameError) as msg:\n",
    "    print(\" We got exceptions is:\",msg)"
   ]
  },
  {
   "cell_type": "markdown",
   "metadata": {},
   "source": [
    "# Default exception:"
   ]
  },
  {
   "cell_type": "code",
   "execution_count": null,
   "metadata": {},
   "outputs": [],
   "source": [
    "syntax:\n",
    "    except:\n",
    "        print(\"Error message......\")"
   ]
  },
  {
   "cell_type": "code",
   "execution_count": 8,
   "metadata": {},
   "outputs": [
    {
     "name": "stdout",
     "output_type": "stream",
     "text": [
      "Enter a value:20\n",
      "Enter b Value:10.4\n",
      "Entered values are wrong...please enter only integers\n"
     ]
    }
   ],
   "source": [
    "try:\n",
    "    a=int(input(\"Enter a value:\"))\n",
    "    b=int(input(\"Enter b Value:\"))\n",
    "    print(a/b)\n",
    "\n",
    "except ZeroDivisionError:\n",
    "    print(\"We should not divide with zero....\")\n",
    "except:\n",
    "    print(\"Entered values are wrong...please enter only integers\")"
   ]
  },
  {
   "cell_type": "code",
   "execution_count": 7,
   "metadata": {},
   "outputs": [
    {
     "name": "stdout",
     "output_type": "stream",
     "text": [
      "Enter a value:10\n",
      "Enter b Value:20.5\n",
      "Entered values are wrong...please enter only integers\n",
      "Hello this is finally\n"
     ]
    }
   ],
   "source": [
    "try:\n",
    "    a=int(input(\"Enter a value:\"))\n",
    "    b=int(input(\"Enter b Value:\"))\n",
    "    print(a/b)\n",
    "\n",
    "except ZeroDivisionError:\n",
    "    print(\"We should not divide with zero....\")\n",
    "except:\n",
    "    print(\"Entered values are wrong...please enter only integers\")\n",
    "finally:\n",
    "    print(\"Hello this is finally\")\n"
   ]
  },
  {
   "cell_type": "code",
   "execution_count": 3,
   "metadata": {},
   "outputs": [
    {
     "ename": "TypeError",
     "evalue": "unsupported operand type(s) for /: 'str' and 'int'",
     "output_type": "error",
     "traceback": [
      "\u001b[1;31m---------------------------------------------------------------------------\u001b[0m",
      "\u001b[1;31mTypeError\u001b[0m                                 Traceback (most recent call last)",
      "\u001b[1;32m~\\AppData\\Local\\Temp/ipykernel_3456/768489067.py\u001b[0m in \u001b[0;36m<module>\u001b[1;34m\u001b[0m\n\u001b[0;32m      1\u001b[0m \u001b[0ms\u001b[0m\u001b[1;33m=\u001b[0m\u001b[1;34m\"Hello\"\u001b[0m\u001b[1;33m\u001b[0m\u001b[1;33m\u001b[0m\u001b[0m\n\u001b[1;32m----> 2\u001b[1;33m \u001b[0mprint\u001b[0m\u001b[1;33m(\u001b[0m\u001b[0ms\u001b[0m\u001b[1;33m/\u001b[0m\u001b[1;36m2\u001b[0m\u001b[1;33m)\u001b[0m\u001b[1;33m\u001b[0m\u001b[1;33m\u001b[0m\u001b[0m\n\u001b[0m",
      "\u001b[1;31mTypeError\u001b[0m: unsupported operand type(s) for /: 'str' and 'int'"
     ]
    }
   ],
   "source": [
    "s=\"Hello\"\n",
    "print(s/2)"
   ]
  },
  {
   "cell_type": "code",
   "execution_count": 1,
   "metadata": {},
   "outputs": [
    {
     "ename": "SyntaxError",
     "evalue": "cannot assign to literal (Temp/ipykernel_3456/697943871.py, line 1)",
     "output_type": "error",
     "traceback": [
      "\u001b[1;36m  File \u001b[1;32m\"C:\\Users\\venky\\AppData\\Local\\Temp/ipykernel_3456/697943871.py\"\u001b[1;36m, line \u001b[1;32m1\u001b[0m\n\u001b[1;33m    10=a\u001b[0m\n\u001b[1;37m    ^\u001b[0m\n\u001b[1;31mSyntaxError\u001b[0m\u001b[1;31m:\u001b[0m cannot assign to literal\n"
     ]
    }
   ],
   "source": [
    "10=a"
   ]
  },
  {
   "cell_type": "code",
   "execution_count": 16,
   "metadata": {},
   "outputs": [
    {
     "name": "stdout",
     "output_type": "stream",
     "text": [
      "We should not divide string with number or division is not allowed for strings\n"
     ]
    }
   ],
   "source": [
    "s1=\"hello\"\n",
    "s2=\"bye\"\n",
    "try:\n",
    "    print(s1/2)\n",
    "except TypeError:\n",
    "    print(\"We should not divide string with number or division is not allowed for strings\")\n"
   ]
  },
  {
   "cell_type": "code",
   "execution_count": null,
   "metadata": {},
   "outputs": [],
   "source": []
  }
 ],
 "metadata": {
  "kernelspec": {
   "display_name": "Python 3 (ipykernel)",
   "language": "python",
   "name": "python3"
  },
  "language_info": {
   "codemirror_mode": {
    "name": "ipython",
    "version": 3
   },
   "file_extension": ".py",
   "mimetype": "text/x-python",
   "name": "python",
   "nbconvert_exporter": "python",
   "pygments_lexer": "ipython3",
   "version": "3.9.7"
  }
 },
 "nbformat": 4,
 "nbformat_minor": 4
}
