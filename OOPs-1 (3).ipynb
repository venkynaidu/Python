{
 "cells": [
  {
   "cell_type": "markdown",
   "id": "999280bb",
   "metadata": {},
   "source": [
    "# OOPS Part-1"
   ]
  },
  {
   "cell_type": "markdown",
   "id": "563a2396",
   "metadata": {},
   "source": [
    "### What is Class?"
   ]
  },
  {
   "cell_type": "markdown",
   "id": "89aaab56",
   "metadata": {},
   "source": [
    "In python every thing is an object. TO create objects we required some model or plan or blue print, which is nothing but class\n",
    "\n",
    "We can write a class to represent properties(attributes) and actions (behaviour) of objects.\n",
    "\n",
    "Properties can be represented by variables\n",
    "\n",
    "actions can be represented  by methods\n",
    "\n",
    "Hence class contains both variables and methods"
   ]
  },
  {
   "cell_type": "markdown",
   "id": "c00a738e",
   "metadata": {},
   "source": [
    "# How to define a class?"
   ]
  },
  {
   "cell_type": "code",
   "execution_count": null,
   "id": "054233a8",
   "metadata": {},
   "outputs": [],
   "source": [
    "class classname:\n",
    "    \"\"\"doc string\"\"\"\n",
    "    variables: instance, static, local variables\n",
    "    methods: instance, static and class methods"
   ]
  },
  {
   "cell_type": "code",
   "execution_count": 1,
   "id": "d0aa801e",
   "metadata": {},
   "outputs": [],
   "source": [
    "#program to create a sample class\n",
    "class sample:\n",
    "    #this is the comment line inside the class\n",
    "    '''this space can be used to \n",
    "    create information about the class\n",
    "    idi manaki class gurinchi explain chestundi'''\n",
    "    "
   ]
  },
  {
   "cell_type": "code",
   "execution_count": 2,
   "id": "571df078",
   "metadata": {},
   "outputs": [
    {
     "name": "stdout",
     "output_type": "stream",
     "text": [
      "Help on class sample in module __main__:\n",
      "\n",
      "class sample(builtins.object)\n",
      " |  this space can be used to \n",
      " |  create information about the class\n",
      " |  idi manaki class gurinchi explain chestundi\n",
      " |  \n",
      " |  Data descriptors defined here:\n",
      " |  \n",
      " |  __dict__\n",
      " |      dictionary for instance variables (if defined)\n",
      " |  \n",
      " |  __weakref__\n",
      " |      list of weak references to the object (if defined)\n",
      "\n"
     ]
    }
   ],
   "source": [
    "help(sample)"
   ]
  },
  {
   "cell_type": "code",
   "execution_count": 3,
   "id": "ec61d40c",
   "metadata": {},
   "outputs": [
    {
     "name": "stdout",
     "output_type": "stream",
     "text": [
      "this space can be used to \n",
      "    create information about the class\n",
      "    idi manaki class gurinchi explain chestundi\n"
     ]
    }
   ],
   "source": [
    "print(sample.__doc__)"
   ]
  },
  {
   "cell_type": "code",
   "execution_count": 4,
   "id": "df5cc55a",
   "metadata": {},
   "outputs": [],
   "source": [
    "def m1():\n",
    "        print(\"Hello this is method 1\")"
   ]
  },
  {
   "cell_type": "code",
   "execution_count": 5,
   "id": "17aca9c6",
   "metadata": {},
   "outputs": [
    {
     "name": "stdout",
     "output_type": "stream",
     "text": [
      "Hello this is method 1\n"
     ]
    }
   ],
   "source": [
    "m1()"
   ]
  },
  {
   "cell_type": "code",
   "execution_count": 7,
   "id": "b1a7c33d",
   "metadata": {},
   "outputs": [],
   "source": [
    "class test:\n",
    "    a=10\n",
    "    def m2(self):\n",
    "        print(\"a value is:\",test.a)\n"
   ]
  },
  {
   "cell_type": "code",
   "execution_count": 8,
   "id": "c9a08f9a",
   "metadata": {},
   "outputs": [],
   "source": [
    "x=test()"
   ]
  },
  {
   "cell_type": "code",
   "execution_count": 9,
   "id": "1cda426d",
   "metadata": {},
   "outputs": [
    {
     "data": {
      "text/plain": [
       "10"
      ]
     },
     "execution_count": 9,
     "metadata": {},
     "output_type": "execute_result"
    }
   ],
   "source": [
    "x.a"
   ]
  },
  {
   "cell_type": "code",
   "execution_count": 10,
   "id": "da4753a6",
   "metadata": {},
   "outputs": [
    {
     "name": "stdout",
     "output_type": "stream",
     "text": [
      "a value is: 10\n"
     ]
    }
   ],
   "source": [
    "x.m2()"
   ]
  },
  {
   "cell_type": "code",
   "execution_count": 15,
   "id": "aab3e2db",
   "metadata": {},
   "outputs": [
    {
     "data": {
      "text/plain": [
       "<__main__.test at 0x1d956156b80>"
      ]
     },
     "execution_count": 15,
     "metadata": {},
     "output_type": "execute_result"
    }
   ],
   "source": [
    "test()"
   ]
  },
  {
   "cell_type": "code",
   "execution_count": 16,
   "id": "2d124475",
   "metadata": {},
   "outputs": [
    {
     "ename": "NameError",
     "evalue": "name 'm2' is not defined",
     "output_type": "error",
     "traceback": [
      "\u001b[1;31m---------------------------------------------------------------------------\u001b[0m",
      "\u001b[1;31mNameError\u001b[0m                                 Traceback (most recent call last)",
      "\u001b[1;32m~\\AppData\\Local\\Temp/ipykernel_5676/1391792790.py\u001b[0m in \u001b[0;36m<module>\u001b[1;34m\u001b[0m\n\u001b[1;32m----> 1\u001b[1;33m \u001b[0mm2\u001b[0m\u001b[1;33m(\u001b[0m\u001b[1;33m)\u001b[0m\u001b[1;33m\u001b[0m\u001b[1;33m\u001b[0m\u001b[0m\n\u001b[0m",
      "\u001b[1;31mNameError\u001b[0m: name 'm2' is not defined"
     ]
    }
   ],
   "source": [
    "m2()"
   ]
  },
  {
   "cell_type": "code",
   "execution_count": 17,
   "id": "dfb6582a",
   "metadata": {},
   "outputs": [],
   "source": [
    "t=test()"
   ]
  },
  {
   "cell_type": "code",
   "execution_count": 18,
   "id": "b86ce136",
   "metadata": {},
   "outputs": [
    {
     "name": "stdout",
     "output_type": "stream",
     "text": [
      "10\n"
     ]
    }
   ],
   "source": [
    "print(t.a)"
   ]
  },
  {
   "cell_type": "code",
   "execution_count": 19,
   "id": "02d1ad3e",
   "metadata": {},
   "outputs": [
    {
     "name": "stdout",
     "output_type": "stream",
     "text": [
      "a value is: 10\n"
     ]
    }
   ],
   "source": [
    "t.m2()"
   ]
  },
  {
   "cell_type": "code",
   "execution_count": 1,
   "id": "b31fe2c2",
   "metadata": {},
   "outputs": [],
   "source": [
    "class Test:\n",
    "    def m1(self):\n",
    "        print(\"I am from m1 method\")\n",
    "        \n",
    "    def m2(self):\n",
    "        print(\"I am from m2 method\")\n",
    "    def m3(self):\n",
    "        print(\"I am from m3 method\")\n",
    "\n",
    "        "
   ]
  },
  {
   "cell_type": "code",
   "execution_count": 3,
   "id": "8cdb9f65",
   "metadata": {},
   "outputs": [],
   "source": [
    "t=Test()"
   ]
  },
  {
   "cell_type": "code",
   "execution_count": 4,
   "id": "d87d394a",
   "metadata": {},
   "outputs": [
    {
     "name": "stdout",
     "output_type": "stream",
     "text": [
      "I am from m1 method\n"
     ]
    }
   ],
   "source": [
    "t.m1()"
   ]
  },
  {
   "cell_type": "code",
   "execution_count": 12,
   "id": "4b53c768",
   "metadata": {},
   "outputs": [
    {
     "name": "stdout",
     "output_type": "stream",
     "text": [
      "I am from m2 method\n"
     ]
    }
   ],
   "source": [
    "t.m2()"
   ]
  },
  {
   "cell_type": "code",
   "execution_count": 13,
   "id": "0a049138",
   "metadata": {},
   "outputs": [
    {
     "name": "stdout",
     "output_type": "stream",
     "text": [
      "I am from m3 method\n"
     ]
    }
   ],
   "source": [
    "t.m3()"
   ]
  },
  {
   "cell_type": "code",
   "execution_count": 3,
   "id": "20120331",
   "metadata": {},
   "outputs": [],
   "source": [
    "class test:\n",
    "    def m3(self):\n",
    "        print(\"Hello this is method 1\")\n",
    "t=test()"
   ]
  },
  {
   "cell_type": "code",
   "execution_count": 4,
   "id": "54820e61",
   "metadata": {},
   "outputs": [
    {
     "name": "stdout",
     "output_type": "stream",
     "text": [
      "Hello this is method 1\n"
     ]
    }
   ],
   "source": [
    "t.m3()"
   ]
  },
  {
   "cell_type": "code",
   "execution_count": 5,
   "id": "a09b1846",
   "metadata": {},
   "outputs": [
    {
     "ename": "NameError",
     "evalue": "name 'self' is not defined",
     "output_type": "error",
     "traceback": [
      "\u001b[1;31m---------------------------------------------------------------------------\u001b[0m",
      "\u001b[1;31mNameError\u001b[0m                                 Traceback (most recent call last)",
      "\u001b[1;32m~\\AppData\\Local\\Temp/ipykernel_2508/240409578.py\u001b[0m in \u001b[0;36m<module>\u001b[1;34m\u001b[0m\n\u001b[1;32m----> 1\u001b[1;33m \u001b[0mtest\u001b[0m\u001b[1;33m.\u001b[0m\u001b[0mm3\u001b[0m\u001b[1;33m(\u001b[0m\u001b[0mself\u001b[0m\u001b[1;33m)\u001b[0m\u001b[1;33m\u001b[0m\u001b[1;33m\u001b[0m\u001b[0m\n\u001b[0m",
      "\u001b[1;31mNameError\u001b[0m: name 'self' is not defined"
     ]
    }
   ],
   "source": [
    "test.m3(self)"
   ]
  },
  {
   "cell_type": "code",
   "execution_count": 5,
   "id": "591b32a7",
   "metadata": {},
   "outputs": [
    {
     "name": "stdout",
     "output_type": "stream",
     "text": [
      "This is the constructor\n",
      "Venky\n",
      "Student Marks: 90\n",
      "student ID: 1024\n"
     ]
    }
   ],
   "source": [
    "#creating class and instance method, instance variables\n",
    "class student:\n",
    "    '''This is doct string of student class\n",
    "    Student details will be created and display'''\n",
    "    def __init__(self):\n",
    "        print(\"This is the constructor\")\n",
    "        self.name=\"Venky\"\n",
    "        self.marks=90\n",
    "        self.id=1024\n",
    "    def details(self):\n",
    "        print(\"Student name is:\",self.name)\n",
    "        print(\"Student Marks:\",self.marks)\n",
    "        print(\"student ID:\",self.id)\n",
    "s=student()\n",
    "s.details()"
   ]
  },
  {
   "cell_type": "code",
   "execution_count": 2,
   "id": "8a849aae",
   "metadata": {},
   "outputs": [
    {
     "name": "stdout",
     "output_type": "stream",
     "text": [
      "This is the constructor\n"
     ]
    }
   ],
   "source": [
    "#creating class and instance method, instance variables\n",
    "class student:\n",
    "    '''This is doct string of student class\n",
    "    Student details will be created and display'''\n",
    "    def __init__(self):\n",
    "        print(\"This is the constructor\")\n",
    "        self.name=\"Venky\"\n",
    "        self.marks=90\n",
    "        self.id=1024\n",
    "    def details(self):\n",
    "        print(\"Student name is:\",self.name)\n",
    "        print(\"Student Marks:\",self.marks)\n",
    "        print(\"student ID:\",self.id)\n",
    "s=student()\n",
    "#s.details()"
   ]
  },
  {
   "cell_type": "code",
   "execution_count": 8,
   "id": "593def13",
   "metadata": {},
   "outputs": [
    {
     "name": "stdout",
     "output_type": "stream",
     "text": [
      "This is the constructor\n",
      "Student name is: Venky\n",
      "Student Marks: 90\n",
      "student ID: 1024\n"
     ]
    }
   ],
   "source": [
    "#creating class and instance method, instance variables\n",
    "class student:\n",
    "    '''This is document string'''\n",
    "    def __init__(self):\n",
    "        print(\"This is the constructor\")\n",
    "        self.name=\"Venky\"\n",
    "        self.marks=90\n",
    "        self.id=1024\n",
    "    def details(self):\n",
    "        print(\"Student name is:\",self.name)\n",
    "        print(\"Student Marks:\",self.marks)\n",
    "        print(\"student ID:\",self.id)\n",
    "s=student()\n",
    "s.details()"
   ]
  },
  {
   "cell_type": "code",
   "execution_count": 9,
   "id": "362585ae",
   "metadata": {},
   "outputs": [
    {
     "name": "stdout",
     "output_type": "stream",
     "text": [
      "This is document string\n"
     ]
    }
   ],
   "source": [
    "print(student.__doc__)"
   ]
  },
  {
   "cell_type": "markdown",
   "id": "b91196a2",
   "metadata": {},
   "source": [
    "# Self Variable:"
   ]
  },
  {
   "cell_type": "code",
   "execution_count": null,
   "id": "e04bbc8f",
   "metadata": {},
   "outputs": [],
   "source": [
    "self is the default variable which is always pointing to current object.\n",
    "By using self variable we can access instance variables and instance methods."
   ]
  },
  {
   "cell_type": "markdown",
   "id": "7ab0a50f",
   "metadata": {},
   "source": [
    "# Constructor"
   ]
  },
  {
   "cell_type": "code",
   "execution_count": null,
   "id": "633183cb",
   "metadata": {},
   "outputs": [],
   "source": [
    "1.Constructor is a special method in python.\n",
    "2. The name of the constructor should be __init__(self)\n",
    "3. Constructor will be executed automatically at the time of object creation.\n",
    "4. Main purpose of constructor is to declare and initialise the instance\n",
    "   variables\n",
    "5. Per object constructor will be executed only once.\n",
    "6. Constructor can take atleast one argument i.e, self\n",
    "7. Constructor is optional if we are not providing any constructor python\n",
    "   creates a default constrcutor.\n"
   ]
  },
  {
   "cell_type": "code",
   "execution_count": 6,
   "id": "18af3894",
   "metadata": {},
   "outputs": [
    {
     "name": "stdout",
     "output_type": "stream",
     "text": [
      "Enter name:venky\n",
      "This is the constructor\n",
      "Student name is: venky\n",
      "Student Marks: 90\n",
      "student ID: 1024\n"
     ]
    }
   ],
   "source": [
    "#creating class and instance method, instance variables\n",
    "class student:\n",
    "    '''This is doct string of student class\n",
    "    Student details will be created and display'''\n",
    "    def __init__(self,name,marks,ID):\n",
    "        print(\"This is the constructor\")\n",
    "        self.name=name\n",
    "        self.marks=marks\n",
    "        self.ID=ID\n",
    "    def details(self):\n",
    "        print(\"Student name is:\",self.name)\n",
    "        print(\"Student Marks:\",self.marks)\n",
    "        print(\"student ID:\",self.ID)\n",
    "name=input(\"Enter name:\")\n",
    "s=student(name,90,1024)\n",
    "s.details()"
   ]
  },
  {
   "cell_type": "code",
   "execution_count": 21,
   "id": "d299044b",
   "metadata": {
    "collapsed": true
   },
   "outputs": [
    {
     "name": "stdout",
     "output_type": "stream",
     "text": [
      "This is the constructor\n",
      "Student name is: Balayya\n",
      "Student Marks: 108\n",
      "student ID: 1222\n"
     ]
    }
   ],
   "source": [
    "s1=student(\"Balayya\",108,1222)\n",
    "s1.details()"
   ]
  },
  {
   "cell_type": "markdown",
   "id": "4f92b206",
   "metadata": {},
   "source": [
    "# Types of Variables"
   ]
  },
  {
   "cell_type": "code",
   "execution_count": null,
   "id": "d01e3084",
   "metadata": {},
   "outputs": [],
   "source": [
    "1. Instance Variables(Object Level Variable)\n",
    "2. Static Variables(Class Level Variable)\n",
    "3. Local Variables(Method Level Variable)"
   ]
  },
  {
   "cell_type": "markdown",
   "id": "a9249251",
   "metadata": {},
   "source": [
    "# 1. Instance Variables"
   ]
  },
  {
   "cell_type": "markdown",
   "id": "19be2f38",
   "metadata": {},
   "source": [
    "If the value of variable varies from object to object ,then such type of variables are called instance variable.\n",
    "\n",
    "For every object a separate copy of instance variables will be created."
   ]
  },
  {
   "cell_type": "markdown",
   "id": "6b0caa08",
   "metadata": {},
   "source": [
    "# Where we can declare instance variables"
   ]
  },
  {
   "cell_type": "code",
   "execution_count": null,
   "id": "08a89aff",
   "metadata": {},
   "outputs": [],
   "source": [
    "1.Inside the constructor by using self vraiable\n",
    "2. Inside instance method by using self variable\n",
    "3. Outside of the class by using object reference variable"
   ]
  },
  {
   "cell_type": "markdown",
   "id": "5b359269",
   "metadata": {},
   "source": [
    "# 1. Inside Constructor by using self variable"
   ]
  },
  {
   "cell_type": "code",
   "execution_count": 22,
   "id": "a3f503ee",
   "metadata": {},
   "outputs": [
    {
     "name": "stdout",
     "output_type": "stream",
     "text": [
      "{'ename': 'Venky', 'eno': 1024, 'salary': 98000}\n",
      "{'ename': 'Venky', 'eno': 1024, 'salary': 98000}\n"
     ]
    }
   ],
   "source": [
    "#Example program for instance variable inside constructor\n",
    "class Employee:\n",
    "    def __init__(self):\n",
    "        self.ename=\"Venky\"\n",
    "        self.eno=1024\n",
    "        self.salary=98000\n",
    "e=Employee()\n",
    "print(e.__dict__)\n",
    "e1=Employee()\n",
    "print(e1.__dict__)"
   ]
  },
  {
   "cell_type": "code",
   "execution_count": 11,
   "id": "c09799cc",
   "metadata": {},
   "outputs": [
    {
     "name": "stdout",
     "output_type": "stream",
     "text": [
      "{'ename': 'Venky', 'eno': 1024, 'salary': 98000}\n",
      "{'ename': 'Suresh', 'eno': 1024, 'salary': 98000}\n"
     ]
    }
   ],
   "source": [
    "#Example program for instance variable inside constructor\n",
    "class Employee:\n",
    "    def __init__(self):\n",
    "        self.ename=\"Venky\"\n",
    "        self.eno=1024\n",
    "        self.salary=98000\n",
    "e=Employee()\n",
    "print(e.__dict__)\n",
    "e1=Employee()\n",
    "e1.ename=\"Suresh\"\n",
    "print(e1.__dict__)"
   ]
  },
  {
   "cell_type": "markdown",
   "id": "df5ed47f",
   "metadata": {},
   "source": [
    "# 2. Inside Instance Method by using self variable"
   ]
  },
  {
   "cell_type": "code",
   "execution_count": 23,
   "id": "b9a208ae",
   "metadata": {},
   "outputs": [
    {
     "name": "stdout",
     "output_type": "stream",
     "text": [
      "{'a': 10, 'b': 20, 'c': 30}\n"
     ]
    }
   ],
   "source": [
    "#example program for instance variables inside instance method\n",
    "class Test:\n",
    "    def __init__(self):\n",
    "        self.a=10\n",
    "        self.b=20\n",
    "    def m(self):\n",
    "        self.c=30\n",
    "t=Test()\n",
    "t.m()\n",
    "print(t.__dict__)"
   ]
  },
  {
   "cell_type": "code",
   "execution_count": 26,
   "id": "b2bae9ca",
   "metadata": {},
   "outputs": [
    {
     "name": "stdout",
     "output_type": "stream",
     "text": [
      "{'a': 10, 'b': 20}\n"
     ]
    }
   ],
   "source": [
    "#example program for instance variables inside instance method\n",
    "class Test:\n",
    "    def __init__(self):\n",
    "        self.a=10\n",
    "        self.b=20\n",
    "    def m(self):\n",
    "        c=30\n",
    "t=Test()\n",
    "t.m()\n",
    "print(t.__dict__)"
   ]
  },
  {
   "cell_type": "markdown",
   "id": "0458761d",
   "metadata": {},
   "source": [
    "# 3.  Outside of the class by using object reference variable"
   ]
  },
  {
   "cell_type": "code",
   "execution_count": 27,
   "id": "93d07789",
   "metadata": {},
   "outputs": [
    {
     "name": "stdout",
     "output_type": "stream",
     "text": [
      "{'a': 10, 'b': 20, 'c': 30, 'd': 40}\n"
     ]
    }
   ],
   "source": [
    "class Test:\n",
    "    def __init__(self):\n",
    "        self.a=10\n",
    "        self.b=20\n",
    "    def m(self):\n",
    "        self.c=30\n",
    "t=Test()\n",
    "t.m()\n",
    "t.d=40\n",
    "print(t.__dict__)"
   ]
  },
  {
   "cell_type": "code",
   "execution_count": 28,
   "id": "b03264fb",
   "metadata": {},
   "outputs": [
    {
     "name": "stdout",
     "output_type": "stream",
     "text": [
      "{'a': 10, 'b': 20, 'c': 30}\n"
     ]
    }
   ],
   "source": [
    "class Test:\n",
    "    def __init__(self):\n",
    "        self.a=10\n",
    "        self.b=20\n",
    "    def m(self):\n",
    "        self.c=30\n",
    "t=Test()\n",
    "t.m()\n",
    "d=40\n",
    "print(t.__dict__)"
   ]
  },
  {
   "cell_type": "markdown",
   "id": "3f60b695",
   "metadata": {},
   "source": [
    "# How to access Instance Variables"
   ]
  },
  {
   "cell_type": "markdown",
   "id": "1a19519b",
   "metadata": {},
   "source": [
    "We can access instance variables within the class by using self variable, outside of the class by using object reference variable.\n"
   ]
  },
  {
   "cell_type": "code",
   "execution_count": 1,
   "id": "ad84306f",
   "metadata": {},
   "outputs": [
    {
     "name": "stdout",
     "output_type": "stream",
     "text": [
      "A value inside constructor: 10\n",
      "constructor b value in instance method: 20\n",
      "c in instance method: 30\n"
     ]
    }
   ],
   "source": [
    "#example program to access instance variables from inside of the class\n",
    "class Test:\n",
    "    def __init__(self):    #constructor\n",
    "        self.a=10\n",
    "        self.b=20\n",
    "        print(\"A value inside constructor:\",self.a)\n",
    "    def m(self): #instance method\n",
    "        self.c=30\n",
    "        print(\"constructor b value in instance method:\",self.b)\n",
    "        print(\"c in instance method:\",self.c)\n",
    "        \n",
    "t=Test()\n",
    "t.m()\n"
   ]
  },
  {
   "cell_type": "code",
   "execution_count": 3,
   "id": "23c62596",
   "metadata": {},
   "outputs": [
    {
     "name": "stdout",
     "output_type": "stream",
     "text": [
      "A value inside constructor: 10\n"
     ]
    },
    {
     "ename": "NameError",
     "evalue": "name 'b' is not defined",
     "output_type": "error",
     "traceback": [
      "\u001b[1;31m---------------------------------------------------------------------------\u001b[0m",
      "\u001b[1;31mNameError\u001b[0m                                 Traceback (most recent call last)",
      "\u001b[1;32m~\\AppData\\Local\\Temp/ipykernel_11568/3219752201.py\u001b[0m in \u001b[0;36m<module>\u001b[1;34m\u001b[0m\n\u001b[0;32m     11\u001b[0m \u001b[1;33m\u001b[0m\u001b[0m\n\u001b[0;32m     12\u001b[0m \u001b[0mt\u001b[0m\u001b[1;33m=\u001b[0m\u001b[0mTest\u001b[0m\u001b[1;33m(\u001b[0m\u001b[1;33m)\u001b[0m\u001b[1;33m\u001b[0m\u001b[1;33m\u001b[0m\u001b[0m\n\u001b[1;32m---> 13\u001b[1;33m \u001b[0mt\u001b[0m\u001b[1;33m.\u001b[0m\u001b[0mm\u001b[0m\u001b[1;33m(\u001b[0m\u001b[1;33m)\u001b[0m\u001b[1;33m\u001b[0m\u001b[1;33m\u001b[0m\u001b[0m\n\u001b[0m",
      "\u001b[1;32m~\\AppData\\Local\\Temp/ipykernel_11568/3219752201.py\u001b[0m in \u001b[0;36mm\u001b[1;34m(self)\u001b[0m\n\u001b[0;32m      7\u001b[0m     \u001b[1;32mdef\u001b[0m \u001b[0mm\u001b[0m\u001b[1;33m(\u001b[0m\u001b[0mself\u001b[0m\u001b[1;33m)\u001b[0m\u001b[1;33m:\u001b[0m \u001b[1;31m#instance method\u001b[0m\u001b[1;33m\u001b[0m\u001b[1;33m\u001b[0m\u001b[0m\n\u001b[0;32m      8\u001b[0m         \u001b[0mself\u001b[0m\u001b[1;33m.\u001b[0m\u001b[0mc\u001b[0m\u001b[1;33m=\u001b[0m\u001b[1;36m30\u001b[0m\u001b[1;33m\u001b[0m\u001b[1;33m\u001b[0m\u001b[0m\n\u001b[1;32m----> 9\u001b[1;33m         \u001b[0mprint\u001b[0m\u001b[1;33m(\u001b[0m\u001b[1;34m\"constructor b value in instance method:\"\u001b[0m\u001b[1;33m,\u001b[0m\u001b[0mb\u001b[0m\u001b[1;33m)\u001b[0m\u001b[1;33m\u001b[0m\u001b[1;33m\u001b[0m\u001b[0m\n\u001b[0m\u001b[0;32m     10\u001b[0m         \u001b[0mprint\u001b[0m\u001b[1;33m(\u001b[0m\u001b[1;34m\"c in instance method:\"\u001b[0m\u001b[1;33m,\u001b[0m\u001b[0mself\u001b[0m\u001b[1;33m.\u001b[0m\u001b[0mc\u001b[0m\u001b[1;33m)\u001b[0m\u001b[1;33m\u001b[0m\u001b[1;33m\u001b[0m\u001b[0m\n\u001b[0;32m     11\u001b[0m \u001b[1;33m\u001b[0m\u001b[0m\n",
      "\u001b[1;31mNameError\u001b[0m: name 'b' is not defined"
     ]
    }
   ],
   "source": [
    "#example program to access instance variables from inside of the class\n",
    "class Test:\n",
    "    def __init__(self):    #constructor\n",
    "        self.a=10\n",
    "        self.b=20\n",
    "        print(\"A value inside constructor:\",self.a)\n",
    "    def m(self): #instance method\n",
    "        self.c=30\n",
    "        print(\"constructor b value in instance method:\",b)\n",
    "        print(\"c in instance method:\",self.c)\n",
    "        \n",
    "t=Test()\n",
    "t.m()\n"
   ]
  },
  {
   "cell_type": "code",
   "execution_count": 4,
   "id": "383a9ec0",
   "metadata": {},
   "outputs": [
    {
     "name": "stdout",
     "output_type": "stream",
     "text": [
      "Instance variable values of constructor from outside of the class: 10 20\n",
      "Instance variable values of instance method from outside of the class: 30 40\n"
     ]
    }
   ],
   "source": [
    "#example program to access instance variable from outside of the class\n",
    "class Test:\n",
    "    def __init__(self):\n",
    "        self.a=10\n",
    "        self.b=20\n",
    "    def m(self):\n",
    "        self.c=30\n",
    "        self.d=40\n",
    "t=Test()\n",
    "t.m()\n",
    "print(\"Instance variable values of constructor from outside of the class:\",t.a,t.b)\n",
    "print(\"Instance variable values of instance method from outside of the class:\",t.c,t.d)"
   ]
  },
  {
   "cell_type": "markdown",
   "id": "edf790ea",
   "metadata": {},
   "source": [
    "# How to delete instance variables from the object"
   ]
  },
  {
   "cell_type": "code",
   "execution_count": null,
   "id": "71f7b850",
   "metadata": {},
   "outputs": [],
   "source": [
    "1. within a class we can delete instance variables with the helf of self variable\n",
    "example: del self.variablename\n",
    "\n",
    "2. From outside of the class we can delete with the help of object reference variable\n",
    "example: del objectreference variablename\n",
    "    "
   ]
  },
  {
   "cell_type": "code",
   "execution_count": 3,
   "id": "6ac047c8",
   "metadata": {},
   "outputs": [
    {
     "ename": "AttributeError",
     "evalue": "'Test' object has no attribute 'a'",
     "output_type": "error",
     "traceback": [
      "\u001b[1;31m---------------------------------------------------------------------------\u001b[0m",
      "\u001b[1;31mAttributeError\u001b[0m                            Traceback (most recent call last)",
      "\u001b[1;32m~\\AppData\\Local\\Temp/ipykernel_13588/4156282662.py\u001b[0m in \u001b[0;36m<module>\u001b[1;34m\u001b[0m\n\u001b[0;32m      8\u001b[0m         \u001b[0mprint\u001b[0m\u001b[1;33m(\u001b[0m\u001b[0mself\u001b[0m\u001b[1;33m.\u001b[0m\u001b[0ma\u001b[0m\u001b[1;33m)\u001b[0m\u001b[1;33m\u001b[0m\u001b[1;33m\u001b[0m\u001b[0m\n\u001b[0;32m      9\u001b[0m \u001b[0mt\u001b[0m\u001b[1;33m=\u001b[0m\u001b[0mTest\u001b[0m\u001b[1;33m(\u001b[0m\u001b[1;33m)\u001b[0m\u001b[1;33m\u001b[0m\u001b[1;33m\u001b[0m\u001b[0m\n\u001b[1;32m---> 10\u001b[1;33m \u001b[0mt\u001b[0m\u001b[1;33m.\u001b[0m\u001b[0mm\u001b[0m\u001b[1;33m(\u001b[0m\u001b[1;33m)\u001b[0m\u001b[1;33m\u001b[0m\u001b[1;33m\u001b[0m\u001b[0m\n\u001b[0m",
      "\u001b[1;32m~\\AppData\\Local\\Temp/ipykernel_13588/4156282662.py\u001b[0m in \u001b[0;36mm\u001b[1;34m(self)\u001b[0m\n\u001b[0;32m      6\u001b[0m     \u001b[1;32mdef\u001b[0m \u001b[0mm\u001b[0m\u001b[1;33m(\u001b[0m\u001b[0mself\u001b[0m\u001b[1;33m)\u001b[0m\u001b[1;33m:\u001b[0m\u001b[1;33m\u001b[0m\u001b[1;33m\u001b[0m\u001b[0m\n\u001b[0;32m      7\u001b[0m         \u001b[1;32mdel\u001b[0m \u001b[0mself\u001b[0m\u001b[1;33m.\u001b[0m\u001b[0ma\u001b[0m\u001b[1;33m\u001b[0m\u001b[1;33m\u001b[0m\u001b[0m\n\u001b[1;32m----> 8\u001b[1;33m         \u001b[0mprint\u001b[0m\u001b[1;33m(\u001b[0m\u001b[0mself\u001b[0m\u001b[1;33m.\u001b[0m\u001b[0ma\u001b[0m\u001b[1;33m)\u001b[0m\u001b[1;33m\u001b[0m\u001b[1;33m\u001b[0m\u001b[0m\n\u001b[0m\u001b[0;32m      9\u001b[0m \u001b[0mt\u001b[0m\u001b[1;33m=\u001b[0m\u001b[0mTest\u001b[0m\u001b[1;33m(\u001b[0m\u001b[1;33m)\u001b[0m\u001b[1;33m\u001b[0m\u001b[1;33m\u001b[0m\u001b[0m\n\u001b[0;32m     10\u001b[0m \u001b[0mt\u001b[0m\u001b[1;33m.\u001b[0m\u001b[0mm\u001b[0m\u001b[1;33m(\u001b[0m\u001b[1;33m)\u001b[0m\u001b[1;33m\u001b[0m\u001b[1;33m\u001b[0m\u001b[0m\n",
      "\u001b[1;31mAttributeError\u001b[0m: 'Test' object has no attribute 'a'"
     ]
    }
   ],
   "source": [
    "#Example Program to delete instance variables from inside of the class\n",
    "class Test:\n",
    "    def __init__(self):\n",
    "        self.a=10\n",
    "        self.b=20\n",
    "    def m(self):\n",
    "        del self.a\n",
    "        print(self.a)\n",
    "t=Test()\n",
    "t.m()"
   ]
  },
  {
   "cell_type": "code",
   "execution_count": 1,
   "id": "8992be21",
   "metadata": {},
   "outputs": [
    {
     "name": "stdout",
     "output_type": "stream",
     "text": [
      "10\n",
      "20\n"
     ]
    },
    {
     "ename": "AttributeError",
     "evalue": "'Test' object has no attribute 'a'",
     "output_type": "error",
     "traceback": [
      "\u001b[1;31m---------------------------------------------------------------------------\u001b[0m",
      "\u001b[1;31mAttributeError\u001b[0m                            Traceback (most recent call last)",
      "\u001b[1;32m~\\AppData\\Local\\Temp/ipykernel_18312/4250955595.py\u001b[0m in \u001b[0;36m<module>\u001b[1;34m\u001b[0m\n\u001b[0;32m     12\u001b[0m \u001b[1;32mdel\u001b[0m \u001b[0mt\u001b[0m\u001b[1;33m.\u001b[0m\u001b[0ma\u001b[0m\u001b[1;33m\u001b[0m\u001b[1;33m\u001b[0m\u001b[0m\n\u001b[0;32m     13\u001b[0m \u001b[1;32mdel\u001b[0m \u001b[0mt\u001b[0m\u001b[1;33m.\u001b[0m\u001b[0mb\u001b[0m\u001b[1;33m\u001b[0m\u001b[1;33m\u001b[0m\u001b[0m\n\u001b[1;32m---> 14\u001b[1;33m \u001b[0mt\u001b[0m\u001b[1;33m.\u001b[0m\u001b[0mm\u001b[0m\u001b[1;33m(\u001b[0m\u001b[1;33m)\u001b[0m\u001b[1;33m\u001b[0m\u001b[1;33m\u001b[0m\u001b[0m\n\u001b[0m",
      "\u001b[1;32m~\\AppData\\Local\\Temp/ipykernel_18312/4250955595.py\u001b[0m in \u001b[0;36mm\u001b[1;34m(self)\u001b[0m\n\u001b[0;32m      6\u001b[0m     \u001b[1;32mdef\u001b[0m \u001b[0mm\u001b[0m\u001b[1;33m(\u001b[0m\u001b[0mself\u001b[0m\u001b[1;33m)\u001b[0m\u001b[1;33m:\u001b[0m\u001b[1;33m\u001b[0m\u001b[1;33m\u001b[0m\u001b[0m\n\u001b[0;32m      7\u001b[0m \u001b[1;33m\u001b[0m\u001b[0m\n\u001b[1;32m----> 8\u001b[1;33m         \u001b[0mprint\u001b[0m\u001b[1;33m(\u001b[0m\u001b[0mself\u001b[0m\u001b[1;33m.\u001b[0m\u001b[0ma\u001b[0m\u001b[1;33m)\u001b[0m\u001b[1;33m\u001b[0m\u001b[1;33m\u001b[0m\u001b[0m\n\u001b[0m\u001b[0;32m      9\u001b[0m         \u001b[0mprint\u001b[0m\u001b[1;33m(\u001b[0m\u001b[0mself\u001b[0m\u001b[1;33m.\u001b[0m\u001b[0mb\u001b[0m\u001b[1;33m)\u001b[0m\u001b[1;33m\u001b[0m\u001b[1;33m\u001b[0m\u001b[0m\n\u001b[0;32m     10\u001b[0m \u001b[0mt\u001b[0m\u001b[1;33m=\u001b[0m\u001b[0mTest\u001b[0m\u001b[1;33m(\u001b[0m\u001b[1;33m)\u001b[0m\u001b[1;33m\u001b[0m\u001b[1;33m\u001b[0m\u001b[0m\n",
      "\u001b[1;31mAttributeError\u001b[0m: 'Test' object has no attribute 'a'"
     ]
    }
   ],
   "source": [
    "#Example Program to delete instance variables from outside of the class\n",
    "class Test:\n",
    "    def __init__(self):\n",
    "        self.a=10\n",
    "        self.b=20\n",
    "    def m(self):\n",
    "        \n",
    "        print(self.a)\n",
    "        print(self.b)\n",
    "t=Test()\n",
    "t.m()\n",
    "del t.a\n",
    "del t.b\n",
    "t.m()"
   ]
  },
  {
   "cell_type": "markdown",
   "id": "a9dfc0b1",
   "metadata": {},
   "source": [
    "### Note: Instance variables which are deleted from one object will not be deleted from other object"
   ]
  },
  {
   "cell_type": "code",
   "execution_count": 4,
   "id": "1bf5fdcd",
   "metadata": {},
   "outputs": [
    {
     "name": "stdout",
     "output_type": "stream",
     "text": [
      "20\n",
      "10\n",
      "20\n",
      "10\n",
      "{'a': 10}\n",
      "{'a': 10, 'b': 20}\n"
     ]
    }
   ],
   "source": [
    "#Example Program to delete instance variables from outside \n",
    "#of the class from different object references\n",
    "class Test:\n",
    "    def __init__(self):\n",
    "        self.a=10\n",
    "        self.b=20\n",
    "    def m(self):\n",
    "        print(self.b) \n",
    "        print(self.a)\n",
    "t1=Test()\n",
    "t2=Test()\n",
    "t1.m()\n",
    "t2.m()\n",
    "#del t1.a\n",
    "del t1.b\n",
    "\n",
    "print(t1.__dict__)\n",
    "print(t2.__dict__)"
   ]
  },
  {
   "cell_type": "markdown",
   "id": "7780dd27",
   "metadata": {},
   "source": [
    "# 2. Static Variables"
   ]
  },
  {
   "cell_type": "raw",
   "id": "0cdcdd73",
   "metadata": {},
   "source": [
    "1. If the value of a variable not varied from object to object. This static variable will be declared inside the class but outside of the methods.\n",
    "2. For total class only one copy of static variables will be created.\n",
    "3. We can access the static variables either by classname or by object reference variable. But it is recommended to use classname to access static variable."
   ]
  },
  {
   "cell_type": "code",
   "execution_count": 7,
   "id": "f786cf60",
   "metadata": {},
   "outputs": [
    {
     "name": "stdout",
     "output_type": "stream",
     "text": [
      "Variables in t1 : 10 20\n",
      "Variables in t2 : 10 20\n",
      "Variables in t1 : 200 300\n",
      "Variables in t2 : 200 20\n"
     ]
    }
   ],
   "source": [
    "#example program for static variables\n",
    "class Test:\n",
    "    x=10 #x is static variable\n",
    "    def __init__(self):\n",
    "        self.y=20 #y is instance variable\n",
    "t1=Test()\n",
    "t2=Test()\n",
    "print(\"Variables in t1 :\",t1.x,t1.y)\n",
    "print(\"Variables in t2 :\",t2.x,t2.y)\n",
    "Test.x=200\n",
    "t1.y=300\n",
    "print(\"Variables in t1 :\",t1.x,t1.y)\n",
    "print(\"Variables in t2 :\",t2.x,t2.y)"
   ]
  },
  {
   "cell_type": "markdown",
   "id": "02c3383a",
   "metadata": {},
   "source": [
    "# Various places to declare static variables"
   ]
  },
  {
   "cell_type": "code",
   "execution_count": null,
   "id": "8daa8754",
   "metadata": {},
   "outputs": [],
   "source": [
    "1. In general we can declare the static variable within the class\n",
    "but outside of the methods.\n",
    "2. Inside constructor by using classname\n",
    "3. Inside instance method by using classname\n",
    "4. Inside classmethod by using classname or cls variable\n",
    "5. Inside static method by using classname\n"
   ]
  },
  {
   "cell_type": "code",
   "execution_count": 1,
   "id": "c54e50bc",
   "metadata": {},
   "outputs": [
    {
     "name": "stdout",
     "output_type": "stream",
     "text": [
      "{'__module__': '__main__', 'a': 10, '__init__': <function Test.__init__ at 0x000001DBD079E1F0>, 'm1': <function Test.m1 at 0x000001DBD079E310>, 'm2': <classmethod object at 0x000001DBD074A520>, 'm3': <staticmethod object at 0x000001DBD0786C40>, '__dict__': <attribute '__dict__' of 'Test' objects>, '__weakref__': <attribute '__weakref__' of 'Test' objects>, '__doc__': None}\n"
     ]
    }
   ],
   "source": [
    "#example program \n",
    "class Test:\n",
    "    a=10 #static variable inside of class and outside of methods\n",
    "    def __init__(self):\n",
    "        Test.b=20 #b is static variable inside constructor with the help of classname\n",
    "        print(Test.a)\n",
    "    def m1(self):\n",
    "        Test.c=30 # inside instance method by using classname\n",
    "    @classmethod\n",
    "    def m2(cls):\n",
    "        Test.d=40 #inside classmethod by using classname\n",
    "        cls.e=50 #inside classmethod by using cls variable\n",
    "    @staticmethod\n",
    "    def m3():\n",
    "        Test.f=60 #inside static method by using classname\n",
    "print(Test.__dict__)\n",
    "        "
   ]
  },
  {
   "cell_type": "markdown",
   "id": "ffe541c0",
   "metadata": {},
   "source": [
    "# Accessing of static variables "
   ]
  },
  {
   "cell_type": "code",
   "execution_count": null,
   "id": "7c805c73",
   "metadata": {},
   "outputs": [],
   "source": [
    "1. Iside constructor: by using self variable or classname\n",
    "2. Inside instance method: by usinf self variable or classname\n",
    "3. Inside class method : by using cls variable or classname\n",
    "4. inside staticmethod: by using classname\n",
    "5. Outside of the class: by using classname or object reference variable\n",
    "    "
   ]
  },
  {
   "cell_type": "code",
   "execution_count": 3,
   "id": "c86fb495",
   "metadata": {},
   "outputs": [
    {
     "name": "stdout",
     "output_type": "stream",
     "text": [
      "static variable inside constructor with self: 10\n",
      "Static variable inside constructor with classname: 10\n",
      "Static variable from outside of the class with classname: 10\n",
      "Static variable from outside of the class with object reference variable: 10\n",
      "static variable inside instance method with self: 10\n",
      "Static variable inside instance method with classname: 10\n",
      "static variable inside classmethod with self: 10\n",
      "Static variable inside classmethod with classname: 10\n",
      "Static variable inside staticmethod with classname: 10\n"
     ]
    }
   ],
   "source": [
    "class Test:\n",
    "    a=10\n",
    "    def __init__(self):\n",
    "        print(\"static variable inside constructor with self:\",self.a)\n",
    "        print(\"Static variable inside constructor with classname:\",Test.a)\n",
    "    def m1(self):\n",
    "        print(\"static variable inside instance method with self:\",self.a)\n",
    "        print(\"Static variable inside instance method with classname:\",Test.a)\n",
    "    @classmethod\n",
    "    def m2(cls):\n",
    "        print(\"static variable inside classmethod with self:\",cls.a)\n",
    "        print(\"Static variable inside classmethod with classname:\",Test.a)\n",
    "    @staticmethod\n",
    "    def m3():\n",
    "        print(\"Static variable inside staticmethod with classname:\",Test.a)\n",
    "t=Test()\n",
    "print(\"Static variable from outside of the class with classname:\",Test.a)\n",
    "print(\"Static variable from outside of the class with object reference variable:\",t.a)\n",
    "t.m1()\n",
    "t.m2()\n",
    "t.m3()\n",
    "        "
   ]
  },
  {
   "cell_type": "markdown",
   "id": "95624ff4",
   "metadata": {},
   "source": [
    "# How to delete Static Variable of a class"
   ]
  },
  {
   "cell_type": "code",
   "execution_count": null,
   "id": "f197b747",
   "metadata": {},
   "outputs": [],
   "source": [
    "1. We can delete static variables from anywhere by using the following syntax:\n",
    "    del classname.variablename\n",
    "2. But inside of classmethod we can also use cls variable\n",
    "del cls.variablename\n"
   ]
  },
  {
   "cell_type": "code",
   "execution_count": 2,
   "id": "6066c78b",
   "metadata": {},
   "outputs": [
    {
     "name": "stdout",
     "output_type": "stream",
     "text": [
      "10\n"
     ]
    },
    {
     "ename": "AttributeError",
     "evalue": "type object 'Test' has no attribute 'b'",
     "output_type": "error",
     "traceback": [
      "\u001b[1;31m---------------------------------------------------------------------------\u001b[0m",
      "\u001b[1;31mAttributeError\u001b[0m                            Traceback (most recent call last)",
      "\u001b[1;32m~\\AppData\\Local\\Temp/ipykernel_1468/4240766328.py\u001b[0m in \u001b[0;36m<module>\u001b[1;34m\u001b[0m\n\u001b[0;32m     12\u001b[0m         \u001b[0mprint\u001b[0m\u001b[1;33m(\u001b[0m\u001b[0mcls\u001b[0m\u001b[1;33m.\u001b[0m\u001b[0mb\u001b[0m\u001b[1;33m)\u001b[0m\u001b[1;33m\u001b[0m\u001b[1;33m\u001b[0m\u001b[0m\n\u001b[0;32m     13\u001b[0m \u001b[0mt\u001b[0m\u001b[1;33m=\u001b[0m\u001b[0mTest\u001b[0m\u001b[1;33m(\u001b[0m\u001b[1;33m)\u001b[0m\u001b[1;33m\u001b[0m\u001b[1;33m\u001b[0m\u001b[0m\n\u001b[1;32m---> 14\u001b[1;33m \u001b[0mt\u001b[0m\u001b[1;33m.\u001b[0m\u001b[0mm1\u001b[0m\u001b[1;33m(\u001b[0m\u001b[1;33m)\u001b[0m\u001b[1;33m\u001b[0m\u001b[1;33m\u001b[0m\u001b[0m\n\u001b[0m",
      "\u001b[1;32m~\\AppData\\Local\\Temp/ipykernel_1468/4240766328.py\u001b[0m in \u001b[0;36mm1\u001b[1;34m(cls)\u001b[0m\n\u001b[0;32m     10\u001b[0m     \u001b[1;32mdef\u001b[0m \u001b[0mm1\u001b[0m\u001b[1;33m(\u001b[0m\u001b[0mcls\u001b[0m\u001b[1;33m)\u001b[0m\u001b[1;33m:\u001b[0m\u001b[1;33m\u001b[0m\u001b[1;33m\u001b[0m\u001b[0m\n\u001b[0;32m     11\u001b[0m         \u001b[1;32mdel\u001b[0m \u001b[0mcls\u001b[0m\u001b[1;33m.\u001b[0m\u001b[0mb\u001b[0m\u001b[1;33m\u001b[0m\u001b[1;33m\u001b[0m\u001b[0m\n\u001b[1;32m---> 12\u001b[1;33m         \u001b[0mprint\u001b[0m\u001b[1;33m(\u001b[0m\u001b[0mcls\u001b[0m\u001b[1;33m.\u001b[0m\u001b[0mb\u001b[0m\u001b[1;33m)\u001b[0m\u001b[1;33m\u001b[0m\u001b[1;33m\u001b[0m\u001b[0m\n\u001b[0m\u001b[0;32m     13\u001b[0m \u001b[0mt\u001b[0m\u001b[1;33m=\u001b[0m\u001b[0mTest\u001b[0m\u001b[1;33m(\u001b[0m\u001b[1;33m)\u001b[0m\u001b[1;33m\u001b[0m\u001b[1;33m\u001b[0m\u001b[0m\n\u001b[0;32m     14\u001b[0m \u001b[0mt\u001b[0m\u001b[1;33m.\u001b[0m\u001b[0mm1\u001b[0m\u001b[1;33m(\u001b[0m\u001b[1;33m)\u001b[0m\u001b[1;33m\u001b[0m\u001b[1;33m\u001b[0m\u001b[0m\n",
      "\u001b[1;31mAttributeError\u001b[0m: type object 'Test' has no attribute 'b'"
     ]
    }
   ],
   "source": [
    "#deletion of static variable inside constructor\n",
    "class Test:\n",
    "    a=10\n",
    "    b=20\n",
    "    c=30\n",
    "    def __init__(self):\n",
    "        del Test.a\n",
    "        print(Test.a)\n",
    "    @classmethod\n",
    "    def m1(cls):\n",
    "        del cls.b\n",
    "        print(cls.b)\n",
    "t=Test()\n",
    "t.m1()"
   ]
  },
  {
   "cell_type": "code",
   "execution_count": 4,
   "id": "a8ec2da8",
   "metadata": {},
   "outputs": [
    {
     "ename": "AttributeError",
     "evalue": "type object 'Test' has no attribute 'a'",
     "output_type": "error",
     "traceback": [
      "\u001b[1;31m---------------------------------------------------------------------------\u001b[0m",
      "\u001b[1;31mAttributeError\u001b[0m                            Traceback (most recent call last)",
      "\u001b[1;32m~\\AppData\\Local\\Temp/ipykernel_1468/1627022681.py\u001b[0m in \u001b[0;36m<module>\u001b[1;34m\u001b[0m\n\u001b[0;32m     12\u001b[0m \u001b[1;33m\u001b[0m\u001b[0m\n\u001b[0;32m     13\u001b[0m \u001b[0mt\u001b[0m\u001b[1;33m=\u001b[0m\u001b[0mTest\u001b[0m\u001b[1;33m(\u001b[0m\u001b[1;33m)\u001b[0m\u001b[1;33m\u001b[0m\u001b[1;33m\u001b[0m\u001b[0m\n\u001b[1;32m---> 14\u001b[1;33m \u001b[0mt\u001b[0m\u001b[1;33m.\u001b[0m\u001b[0mm\u001b[0m\u001b[1;33m(\u001b[0m\u001b[1;33m)\u001b[0m\u001b[1;33m\u001b[0m\u001b[1;33m\u001b[0m\u001b[0m\n\u001b[0m",
      "\u001b[1;32m~\\AppData\\Local\\Temp/ipykernel_1468/1627022681.py\u001b[0m in \u001b[0;36mm\u001b[1;34m(self)\u001b[0m\n\u001b[0;32m      9\u001b[0m     \u001b[1;32mdef\u001b[0m \u001b[0mm\u001b[0m\u001b[1;33m(\u001b[0m\u001b[0mself\u001b[0m\u001b[1;33m)\u001b[0m\u001b[1;33m:\u001b[0m\u001b[1;33m\u001b[0m\u001b[1;33m\u001b[0m\u001b[0m\n\u001b[0;32m     10\u001b[0m         \u001b[1;32mdel\u001b[0m \u001b[0mTest\u001b[0m\u001b[1;33m.\u001b[0m\u001b[0ma\u001b[0m\u001b[1;33m\u001b[0m\u001b[1;33m\u001b[0m\u001b[0m\n\u001b[1;32m---> 11\u001b[1;33m         \u001b[0mprint\u001b[0m\u001b[1;33m(\u001b[0m\u001b[0mTest\u001b[0m\u001b[1;33m.\u001b[0m\u001b[0ma\u001b[0m\u001b[1;33m)\u001b[0m\u001b[1;33m\u001b[0m\u001b[1;33m\u001b[0m\u001b[0m\n\u001b[0m\u001b[0;32m     12\u001b[0m \u001b[1;33m\u001b[0m\u001b[0m\n\u001b[0;32m     13\u001b[0m \u001b[0mt\u001b[0m\u001b[1;33m=\u001b[0m\u001b[0mTest\u001b[0m\u001b[1;33m(\u001b[0m\u001b[1;33m)\u001b[0m\u001b[1;33m\u001b[0m\u001b[1;33m\u001b[0m\u001b[0m\n",
      "\u001b[1;31mAttributeError\u001b[0m: type object 'Test' has no attribute 'a'"
     ]
    }
   ],
   "source": [
    "\n",
    "#deletion of static variable inside instance method\n",
    "class Test:\n",
    "    a=10\n",
    "    b=20\n",
    "    c=30\n",
    "    def __init__(self):\n",
    "        #del Test.a\n",
    "        pass\n",
    "    def m(self):\n",
    "        del Test.a\n",
    "        print(Test.a)\n",
    "    \n",
    "t=Test()\n",
    "t.m()\n"
   ]
  },
  {
   "cell_type": "code",
   "execution_count": 1,
   "id": "a1de7cbf",
   "metadata": {
    "scrolled": true
   },
   "outputs": [
    {
     "ename": "AttributeError",
     "evalue": "type object 'Test' has no attribute 'a'",
     "output_type": "error",
     "traceback": [
      "\u001b[1;31m---------------------------------------------------------------------------\u001b[0m",
      "\u001b[1;31mAttributeError\u001b[0m                            Traceback (most recent call last)",
      "\u001b[1;32m~\\AppData\\Local\\Temp/ipykernel_18628/3401907875.py\u001b[0m in \u001b[0;36m<module>\u001b[1;34m\u001b[0m\n\u001b[0;32m     16\u001b[0m \u001b[0mt\u001b[0m\u001b[1;33m=\u001b[0m\u001b[0mTest\u001b[0m\u001b[1;33m(\u001b[0m\u001b[1;33m)\u001b[0m\u001b[1;33m\u001b[0m\u001b[1;33m\u001b[0m\u001b[0m\n\u001b[0;32m     17\u001b[0m \u001b[0mt\u001b[0m\u001b[1;33m.\u001b[0m\u001b[0mm\u001b[0m\u001b[1;33m(\u001b[0m\u001b[1;33m)\u001b[0m\u001b[1;33m\u001b[0m\u001b[1;33m\u001b[0m\u001b[0m\n\u001b[1;32m---> 18\u001b[1;33m \u001b[0mt\u001b[0m\u001b[1;33m.\u001b[0m\u001b[0mm1\u001b[0m\u001b[1;33m(\u001b[0m\u001b[1;33m)\u001b[0m\u001b[1;33m\u001b[0m\u001b[1;33m\u001b[0m\u001b[0m\n\u001b[0m",
      "\u001b[1;32m~\\AppData\\Local\\Temp/ipykernel_18628/3401907875.py\u001b[0m in \u001b[0;36mm1\u001b[1;34m(cls)\u001b[0m\n\u001b[0;32m     12\u001b[0m     \u001b[1;32mdef\u001b[0m \u001b[0mm1\u001b[0m\u001b[1;33m(\u001b[0m\u001b[0mcls\u001b[0m\u001b[1;33m)\u001b[0m\u001b[1;33m:\u001b[0m\u001b[1;33m\u001b[0m\u001b[1;33m\u001b[0m\u001b[0m\n\u001b[0;32m     13\u001b[0m         \u001b[1;32mdel\u001b[0m \u001b[0mTest\u001b[0m\u001b[1;33m.\u001b[0m\u001b[0ma\u001b[0m\u001b[1;33m\u001b[0m\u001b[1;33m\u001b[0m\u001b[0m\n\u001b[1;32m---> 14\u001b[1;33m         \u001b[0mprint\u001b[0m\u001b[1;33m(\u001b[0m\u001b[0mTest\u001b[0m\u001b[1;33m.\u001b[0m\u001b[0ma\u001b[0m\u001b[1;33m)\u001b[0m\u001b[1;33m\u001b[0m\u001b[1;33m\u001b[0m\u001b[0m\n\u001b[0m\u001b[0;32m     15\u001b[0m \u001b[1;33m\u001b[0m\u001b[0m\n\u001b[0;32m     16\u001b[0m \u001b[0mt\u001b[0m\u001b[1;33m=\u001b[0m\u001b[0mTest\u001b[0m\u001b[1;33m(\u001b[0m\u001b[1;33m)\u001b[0m\u001b[1;33m\u001b[0m\u001b[1;33m\u001b[0m\u001b[0m\n",
      "\u001b[1;31mAttributeError\u001b[0m: type object 'Test' has no attribute 'a'"
     ]
    }
   ],
   "source": [
    "#deletion of static variable inside class method with classname\n",
    "class Test:\n",
    "    a=10\n",
    "    b=20\n",
    "    c=30\n",
    "    def __init__(self):\n",
    "        #del Test.a\n",
    "        pass\n",
    "    def m(self):\n",
    "        pass\n",
    "    @classmethod\n",
    "    def m1(cls):\n",
    "        del Test.a\n",
    "        print(Test.a)\n",
    "    \n",
    "t=Test()\n",
    "t.m()\n",
    "t.m1()"
   ]
  },
  {
   "cell_type": "code",
   "execution_count": 2,
   "id": "2fee234a",
   "metadata": {},
   "outputs": [
    {
     "ename": "AttributeError",
     "evalue": "type object 'Test' has no attribute 'a'",
     "output_type": "error",
     "traceback": [
      "\u001b[1;31m---------------------------------------------------------------------------\u001b[0m",
      "\u001b[1;31mAttributeError\u001b[0m                            Traceback (most recent call last)",
      "\u001b[1;32m~\\AppData\\Local\\Temp/ipykernel_18628/246953626.py\u001b[0m in \u001b[0;36m<module>\u001b[1;34m\u001b[0m\n\u001b[0;32m     16\u001b[0m \u001b[0mt\u001b[0m\u001b[1;33m=\u001b[0m\u001b[0mTest\u001b[0m\u001b[1;33m(\u001b[0m\u001b[1;33m)\u001b[0m\u001b[1;33m\u001b[0m\u001b[1;33m\u001b[0m\u001b[0m\n\u001b[0;32m     17\u001b[0m \u001b[0mt\u001b[0m\u001b[1;33m.\u001b[0m\u001b[0mm\u001b[0m\u001b[1;33m(\u001b[0m\u001b[1;33m)\u001b[0m\u001b[1;33m\u001b[0m\u001b[1;33m\u001b[0m\u001b[0m\n\u001b[1;32m---> 18\u001b[1;33m \u001b[0mt\u001b[0m\u001b[1;33m.\u001b[0m\u001b[0mm1\u001b[0m\u001b[1;33m(\u001b[0m\u001b[1;33m)\u001b[0m\u001b[1;33m\u001b[0m\u001b[1;33m\u001b[0m\u001b[0m\n\u001b[0m",
      "\u001b[1;32m~\\AppData\\Local\\Temp/ipykernel_18628/246953626.py\u001b[0m in \u001b[0;36mm1\u001b[1;34m(cls)\u001b[0m\n\u001b[0;32m     12\u001b[0m     \u001b[1;32mdef\u001b[0m \u001b[0mm1\u001b[0m\u001b[1;33m(\u001b[0m\u001b[0mcls\u001b[0m\u001b[1;33m)\u001b[0m\u001b[1;33m:\u001b[0m\u001b[1;33m\u001b[0m\u001b[1;33m\u001b[0m\u001b[0m\n\u001b[0;32m     13\u001b[0m         \u001b[1;32mdel\u001b[0m \u001b[0mcls\u001b[0m\u001b[1;33m.\u001b[0m\u001b[0ma\u001b[0m\u001b[1;33m\u001b[0m\u001b[1;33m\u001b[0m\u001b[0m\n\u001b[1;32m---> 14\u001b[1;33m         \u001b[0mprint\u001b[0m\u001b[1;33m(\u001b[0m\u001b[0mTest\u001b[0m\u001b[1;33m.\u001b[0m\u001b[0ma\u001b[0m\u001b[1;33m)\u001b[0m\u001b[1;33m\u001b[0m\u001b[1;33m\u001b[0m\u001b[0m\n\u001b[0m\u001b[0;32m     15\u001b[0m \u001b[1;33m\u001b[0m\u001b[0m\n\u001b[0;32m     16\u001b[0m \u001b[0mt\u001b[0m\u001b[1;33m=\u001b[0m\u001b[0mTest\u001b[0m\u001b[1;33m(\u001b[0m\u001b[1;33m)\u001b[0m\u001b[1;33m\u001b[0m\u001b[1;33m\u001b[0m\u001b[0m\n",
      "\u001b[1;31mAttributeError\u001b[0m: type object 'Test' has no attribute 'a'"
     ]
    }
   ],
   "source": [
    "#deletion of static variable inside class method with cls variable\n",
    "class Test:\n",
    "    a=10\n",
    "    b=20\n",
    "    c=30\n",
    "    def __init__(self):\n",
    "        #del Test.a\n",
    "        pass\n",
    "    def m(self):\n",
    "        pass\n",
    "    @classmethod\n",
    "    def m1(cls):\n",
    "        del cls.a\n",
    "        print(Test.a)\n",
    "    \n",
    "t=Test()\n",
    "t.m()\n",
    "t.m1()"
   ]
  },
  {
   "cell_type": "code",
   "execution_count": null,
   "id": "8fff294b",
   "metadata": {},
   "outputs": [],
   "source": [
    "#deletion of static variable inside static method with classname\n",
    "class Test:\n",
    "    a=10\n",
    "    b=20\n",
    "    c=30\n",
    "    def __init__(self):\n",
    "        #del Test.a\n",
    "        pass\n",
    "    def m(self):\n",
    "        pass\n",
    "    @classmethod\n",
    "    def m1(cls):\n",
    "        pass\n",
    "    @staticmethod\n",
    "    def m2():\n",
    "        del Test.a\n",
    "        print(Test.a)\n",
    "    \n",
    "t=Test()\n",
    "t.m()\n",
    "t.m1()\n",
    "t.m2()"
   ]
  },
  {
   "cell_type": "code",
   "execution_count": null,
   "id": "cef5ec5d",
   "metadata": {},
   "outputs": [],
   "source": [
    "#deletion of static variable outside of  classname using class name\n",
    "class Test:\n",
    "    a=10\n",
    "    b=20\n",
    "    c=30\n",
    "    def __init__(self):\n",
    "        #del Test.a\n",
    "        pass\n",
    "    def m(self):\n",
    "        pass\n",
    "    @classmethod\n",
    "    def m1(cls):\n",
    "        pass\n",
    "    @staticmethod\n",
    "    def m2():\n",
    "        #del Test.a\n",
    "        #print(Test.a)\n",
    "        pass\n",
    "    \n",
    "t=Test()\n",
    "t.m()\n",
    "t.m1()\n",
    "t.m2()\n",
    "del Test.a\n",
    "print(Test.a)"
   ]
  },
  {
   "cell_type": "markdown",
   "id": "fbb0a816",
   "metadata": {},
   "source": [
    "# 3.Local Variables"
   ]
  },
  {
   "cell_type": "code",
   "execution_count": 3,
   "id": "b793a8b9",
   "metadata": {},
   "outputs": [
    {
     "name": "stdout",
     "output_type": "stream",
     "text": [
      "100\n"
     ]
    },
    {
     "ename": "NameError",
     "evalue": "name 'x' is not defined",
     "output_type": "error",
     "traceback": [
      "\u001b[1;31m---------------------------------------------------------------------------\u001b[0m",
      "\u001b[1;31mNameError\u001b[0m                                 Traceback (most recent call last)",
      "\u001b[1;32m~\\AppData\\Local\\Temp/ipykernel_18628/1706514942.py\u001b[0m in \u001b[0;36m<module>\u001b[1;34m\u001b[0m\n\u001b[0;32m      7\u001b[0m \u001b[0mt\u001b[0m\u001b[1;33m=\u001b[0m\u001b[0mTest\u001b[0m\u001b[1;33m(\u001b[0m\u001b[1;33m)\u001b[0m\u001b[1;33m\u001b[0m\u001b[1;33m\u001b[0m\u001b[0m\n\u001b[0;32m      8\u001b[0m \u001b[0mt\u001b[0m\u001b[1;33m.\u001b[0m\u001b[0mm1\u001b[0m\u001b[1;33m(\u001b[0m\u001b[1;33m)\u001b[0m\u001b[1;33m\u001b[0m\u001b[1;33m\u001b[0m\u001b[0m\n\u001b[1;32m----> 9\u001b[1;33m \u001b[0mt\u001b[0m\u001b[1;33m.\u001b[0m\u001b[0mm2\u001b[0m\u001b[1;33m(\u001b[0m\u001b[1;33m)\u001b[0m\u001b[1;33m\u001b[0m\u001b[1;33m\u001b[0m\u001b[0m\n\u001b[0m",
      "\u001b[1;32m~\\AppData\\Local\\Temp/ipykernel_18628/1706514942.py\u001b[0m in \u001b[0;36mm2\u001b[1;34m(self)\u001b[0m\n\u001b[0;32m      4\u001b[0m         \u001b[0mprint\u001b[0m\u001b[1;33m(\u001b[0m\u001b[0mx\u001b[0m\u001b[1;33m)\u001b[0m\u001b[1;33m\u001b[0m\u001b[1;33m\u001b[0m\u001b[0m\n\u001b[0;32m      5\u001b[0m     \u001b[1;32mdef\u001b[0m \u001b[0mm2\u001b[0m\u001b[1;33m(\u001b[0m\u001b[0mself\u001b[0m\u001b[1;33m)\u001b[0m\u001b[1;33m:\u001b[0m\u001b[1;33m\u001b[0m\u001b[1;33m\u001b[0m\u001b[0m\n\u001b[1;32m----> 6\u001b[1;33m         \u001b[0mprint\u001b[0m\u001b[1;33m(\u001b[0m\u001b[0mx\u001b[0m\u001b[1;33m)\u001b[0m\u001b[1;33m\u001b[0m\u001b[1;33m\u001b[0m\u001b[0m\n\u001b[0m\u001b[0;32m      7\u001b[0m \u001b[0mt\u001b[0m\u001b[1;33m=\u001b[0m\u001b[0mTest\u001b[0m\u001b[1;33m(\u001b[0m\u001b[1;33m)\u001b[0m\u001b[1;33m\u001b[0m\u001b[1;33m\u001b[0m\u001b[0m\n\u001b[0;32m      8\u001b[0m \u001b[0mt\u001b[0m\u001b[1;33m.\u001b[0m\u001b[0mm1\u001b[0m\u001b[1;33m(\u001b[0m\u001b[1;33m)\u001b[0m\u001b[1;33m\u001b[0m\u001b[1;33m\u001b[0m\u001b[0m\n",
      "\u001b[1;31mNameError\u001b[0m: name 'x' is not defined"
     ]
    }
   ],
   "source": [
    "class Test:\n",
    "    def m1(self):\n",
    "        x=100\n",
    "        print(x)\n",
    "    def m2(self):\n",
    "        print(x)\n",
    "t=Test()\n",
    "t.m1()\n",
    "t.m2()"
   ]
  },
  {
   "cell_type": "code",
   "execution_count": 6,
   "id": "f811be5a",
   "metadata": {},
   "outputs": [
    {
     "name": "stdout",
     "output_type": "stream",
     "text": [
      "100\n",
      "100\n"
     ]
    }
   ],
   "source": [
    "class Test:\n",
    "    def m1(self):\n",
    "        global y\n",
    "        y=100\n",
    "        print(y)\n",
    "    def m2(self):\n",
    "        print(y)\n",
    "t=Test()\n",
    "t.m1()\n",
    "t.m2()"
   ]
  },
  {
   "cell_type": "markdown",
   "id": "b0763f92",
   "metadata": {},
   "source": [
    "# Types of Methods"
   ]
  },
  {
   "cell_type": "code",
   "execution_count": null,
   "id": "471d32cb",
   "metadata": {},
   "outputs": [],
   "source": [
    "1. Instance Methods\n",
    "2. Class Methods\n",
    "3. Static Methods"
   ]
  },
  {
   "cell_type": "markdown",
   "id": "785d1a7a",
   "metadata": {},
   "source": [
    "### 1. Instance Methods"
   ]
  },
  {
   "cell_type": "markdown",
   "id": "09b653a2",
   "metadata": {},
   "source": [
    "1. Inside method implementation if we are using instance variables then such type of method is called instance method.\n",
    "2. Inside instance method declaration we have to pass self variable. example: def m1(self):\n",
    "3. By using self variable inside method,we can access instance variable.\n",
    "4. Within the class we can call instance method by using self variable and outside of the class by using object reference variable.\n"
   ]
  },
  {
   "cell_type": "code",
   "execution_count": 3,
   "id": "d080c4e9",
   "metadata": {},
   "outputs": [
    {
     "name": "stdout",
     "output_type": "stream",
     "text": [
      "Student name is: venky\n",
      "Student Marks: 50\n",
      "You got second class marks\n"
     ]
    }
   ],
   "source": [
    "#Example program for instance methods\n",
    "class Student:\n",
    "    def __init__(self,name,marks):\n",
    "        self.name=name\n",
    "        self.marks=marks\n",
    "    def display(self):\n",
    "        print(\"Student name is:\",self.name)\n",
    "        print(\"Student Marks:\",self.marks)\n",
    "    def grade(self):\n",
    "        self.display() #calling instance method inside the class by using self\n",
    "        if self.marks>=60:\n",
    "            print(\"You got first class marks\")\n",
    "        elif self.marks>=50:\n",
    "            print(\"You got second class marks\")\n",
    "        elif self.marks>=40:\n",
    "            print(\"You got third class marks\")\n",
    "        else:\n",
    "            print(\"Fail\")\n",
    "s=Student(\"venky\",50)\n",
    "#s.display() #calling instance method from outside of the class using object reference variable\n",
    "s.grade()\n",
    "\n",
    "        \n",
    "        \n",
    "        "
   ]
  },
  {
   "cell_type": "code",
   "execution_count": 6,
   "id": "ecd3bc52",
   "metadata": {},
   "outputs": [
    {
     "name": "stdout",
     "output_type": "stream",
     "text": [
      "Student name is: venky\n",
      "Student Marks: 30\n",
      "Fail\n"
     ]
    }
   ],
   "source": [
    "#Example program for instance methods\n",
    "class IIT:\n",
    "    def __init__(self,name,marks):\n",
    "        self.name=name\n",
    "        self.marks=marks\n",
    "    def vijay(self):\n",
    "        print(\"Student name is:\",self.name)\n",
    "        print(\"Student Marks:\",self.marks)\n",
    "    def venky(self):\n",
    "        self.vijay() #calling instance method inside the class by using self\n",
    "        if self.marks>=60:\n",
    "            print(\"You got first class marks\")\n",
    "        elif self.marks>=50:\n",
    "            print(\"You got second class marks\")\n",
    "        elif self.marks>=40:\n",
    "            print(\"You got third class marks\")\n",
    "        else:\n",
    "            print(\"Fail\")\n",
    "s=IIT(\"venky\",30)\n",
    "#s.display() #calling instance method from outside of the class using object reference variable\n",
    "s.venky()\n"
   ]
  },
  {
   "cell_type": "markdown",
   "id": "c2de9239",
   "metadata": {},
   "source": [
    "# setter and getter methods"
   ]
  },
  {
   "cell_type": "markdown",
   "id": "19ac8c1b",
   "metadata": {},
   "source": [
    "we can set and get the values of instance variables by using getter and setter methods"
   ]
  },
  {
   "cell_type": "markdown",
   "id": "5d2a3a94",
   "metadata": {},
   "source": [
    "# setter method"
   ]
  },
  {
   "cell_type": "markdown",
   "id": "cbd497a2",
   "metadata": {},
   "source": [
    "setter methods can be used to set values to the instance variables. Setter methods also known as mutator methods."
   ]
  },
  {
   "cell_type": "code",
   "execution_count": null,
   "id": "d220ebdb",
   "metadata": {},
   "outputs": [],
   "source": [
    "Syntax: \n",
    "    def setvariable(self,variable):\n",
    "        self.variablename=variablename\n",
    "        "
   ]
  },
  {
   "cell_type": "code",
   "execution_count": null,
   "id": "cd26da6c",
   "metadata": {},
   "outputs": [],
   "source": [
    "#Example\n",
    "def setName(self,name):\n",
    "    self.name=name"
   ]
  },
  {
   "cell_type": "markdown",
   "id": "2f7b2c38",
   "metadata": {},
   "source": [
    "# getter method"
   ]
  },
  {
   "cell_type": "markdown",
   "id": "c81b67be",
   "metadata": {},
   "source": [
    "getter method can be used to get values of instance variables. Getter method also know as accessor method."
   ]
  },
  {
   "cell_type": "code",
   "execution_count": null,
   "id": "6948c1bb",
   "metadata": {},
   "outputs": [],
   "source": [
    "syntax: \n",
    "    def Getvariables(self):\n",
    "        return self.variable"
   ]
  },
  {
   "cell_type": "code",
   "execution_count": null,
   "id": "784ab66e",
   "metadata": {},
   "outputs": [],
   "source": [
    "#Example\n",
    "def getVariable(self):\n",
    "    return self.variable"
   ]
  },
  {
   "cell_type": "code",
   "execution_count": 1,
   "id": "5408e317",
   "metadata": {},
   "outputs": [
    {
     "name": "stdout",
     "output_type": "stream",
     "text": [
      "Enter number of students2\n",
      "Enter name:venky\n",
      "Enter Marks:99\n",
      "Student name is: venky\n",
      "Student Marks: 99\n",
      "\n",
      "Enter name:nannagarandi\n",
      "Enter Marks:100\n",
      "Student name is: nannagarandi\n",
      "Student Marks: 100\n",
      "\n"
     ]
    }
   ],
   "source": [
    "#Example program\n",
    "class Student:\n",
    "    def SetName(self,name):\n",
    "        self.name=name\n",
    "    def getname(self):\n",
    "        return self.name\n",
    "    def SetMarks(self,marks):\n",
    "        self.marks=marks\n",
    "    def getMarks(self):\n",
    "        return self.marks\n",
    "n=int(input(\"Enter number of students\"))\n",
    "for i in range(n):\n",
    "    s=Student()\n",
    "    name=input(\"Enter name:\")\n",
    "    s.SetName(name)\n",
    "    marks=int(input(\"Enter Marks:\"))\n",
    "    s.SetMarks(marks)\n",
    "    \n",
    "    print(\"Student name is:\",s.getname())\n",
    "    print(\"Student Marks:\",s.getMarks())\n",
    "    print()\n"
   ]
  },
  {
   "cell_type": "markdown",
   "id": "5070f2ea",
   "metadata": {},
   "source": [
    "# 2. Class Methods"
   ]
  },
  {
   "cell_type": "markdown",
   "id": "748d8861",
   "metadata": {},
   "source": [
    "1. Inside of method implementation if we are using only class variables(static variables) then such type of methods\n",
    "we should declare as class method.\n",
    "2. We can declare class method explicitly by using @classmethod decorator\n",
    "3. for class method we should provide cls variable at the time of declaration.\n",
    "4. We can call classmethod by using classname or object reference variable.\n"
   ]
  },
  {
   "cell_type": "code",
   "execution_count": 7,
   "id": "28a958a9",
   "metadata": {},
   "outputs": [
    {
     "name": "stdout",
     "output_type": "stream",
     "text": [
      "Hello Venkys Good Morning\n",
      "Hello Venkys Good Evening\n"
     ]
    }
   ],
   "source": [
    "class Venky:\n",
    "    x=10\n",
    "    @classmethod\n",
    "    def m(cls,msg):\n",
    "        print(\"Hello Venkys\",msg)\n",
    "Venky.m(\"Good Morning\") #class method is called by using classname\n",
    "v=Venky()\n",
    "v.m(\"Good Evening\") #classmethod is called by using object reference variable"
   ]
  },
  {
   "cell_type": "code",
   "execution_count": 2,
   "id": "cc108603",
   "metadata": {},
   "outputs": [
    {
     "name": "stdout",
     "output_type": "stream",
     "text": [
      "Hello Venkys 10\n",
      "Hello Venkys 10\n"
     ]
    }
   ],
   "source": [
    "class Venky:\n",
    "    x=10\n",
    "    @classmethod\n",
    "    def m(cls):\n",
    "        print(\"Hello Venkys\",cls.x)\n",
    "Venky.m() #class method is called by using classname\n",
    "v=Venky()\n",
    "v.m() #classmethod is called by using object reference variable"
   ]
  },
  {
   "cell_type": "code",
   "execution_count": 6,
   "id": "daac370b",
   "metadata": {},
   "outputs": [
    {
     "name": "stdout",
     "output_type": "stream",
     "text": [
      "Hello Venkys\n",
      "Hello Venkys\n"
     ]
    }
   ],
   "source": [
    "class Venky:\n",
    "    x=10\n",
    "    @classmethod\n",
    "    def m():\n",
    "        print(\"Hello Venkys\")\n",
    "Venky.m() #class method is called by using classname\n",
    "v=Venky()\n",
    "v.m() #classmethod is called by using object reference variable"
   ]
  },
  {
   "cell_type": "markdown",
   "id": "f1da17d5",
   "metadata": {},
   "source": [
    "# 3. Static Method"
   ]
  },
  {
   "cell_type": "markdown",
   "id": "ae128f79",
   "metadata": {},
   "source": [
    "1. in general these methods are used for gerenal purpose\n",
    "2. Inside these staticmethods we won't use any instance or cls variables.\n",
    "3. We declare static method by using @staticmethod decorator.\n",
    "4. We can access static methods by using class name or object reference variable"
   ]
  },
  {
   "cell_type": "code",
   "execution_count": 2,
   "id": "cf8723e8",
   "metadata": {},
   "outputs": [
    {
     "name": "stdout",
     "output_type": "stream",
     "text": [
      "Hello  this is static method\n"
     ]
    }
   ],
   "source": [
    "#Example Program\n",
    "class Test:\n",
    "    @staticmethod\n",
    "    def m():\n",
    "        print(\"Hello  this is static method\")\n",
    "Test.m() #static method called by using classname\n",
    "        "
   ]
  },
  {
   "cell_type": "code",
   "execution_count": 8,
   "id": "790cd78c",
   "metadata": {},
   "outputs": [
    {
     "name": "stdout",
     "output_type": "stream",
     "text": [
      "Hello  this is static method\n"
     ]
    }
   ],
   "source": [
    "#Example Program\n",
    "class Test:\n",
    "    @staticmethod\n",
    "    def m():\n",
    "        print(\"Hello  this is static method\")\n",
    "t=Test()\n",
    "t.m() #staticmethod called by using object reference variable\n"
   ]
  },
  {
   "cell_type": "code",
   "execution_count": 11,
   "id": "5160624d",
   "metadata": {},
   "outputs": [
    {
     "name": "stdout",
     "output_type": "stream",
     "text": [
      "Add of a,b is: 30\n"
     ]
    }
   ],
   "source": [
    "#Example Program\n",
    "class Test:\n",
    "    @staticmethod\n",
    "    def m(a,b):\n",
    "        print(\"Add of a,b is:\",a+b)\n",
    "Test.m(10,20) #static method called by using classname"
   ]
  },
  {
   "cell_type": "code",
   "execution_count": null,
   "id": "dbc96567",
   "metadata": {},
   "outputs": [],
   "source": [
    "#Example Program\n",
    "class Test:\n",
    "    @staticmethod\n",
    "    def m(a,b):\n",
    "        print(\"Add of a,b is:\",a+b)\n",
    "t=Test()\n",
    "t.m(5,4) "
   ]
  }
 ],
 "metadata": {
  "kernelspec": {
   "display_name": "Python 3 (ipykernel)",
   "language": "python",
   "name": "python3"
  },
  "language_info": {
   "codemirror_mode": {
    "name": "ipython",
    "version": 3
   },
   "file_extension": ".py",
   "mimetype": "text/x-python",
   "name": "python",
   "nbconvert_exporter": "python",
   "pygments_lexer": "ipython3",
   "version": "3.9.7"
  }
 },
 "nbformat": 4,
 "nbformat_minor": 5
}
